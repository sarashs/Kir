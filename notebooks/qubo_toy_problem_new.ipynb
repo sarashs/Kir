{
 "cells": [
  {
   "cell_type": "markdown",
   "metadata": {},
   "source": [
    "-Constraint to set one node to 1 for the ending node: $(1-\\sum_i y_i + \\sum_{i\\neq j} 2y_iy_j)$\n",
    "\n",
    "-Constraint to set other nodes to 0 or 2: $(\\sum_jy_j)(2-\\sum_jy_j)^2= \\sum_i y_i-2\\sum_{i\\neq j}y_iy_j+6\\sum_{i\\neq j,i\\neq k,j\\neq j}y_iy_jy_k$. Adding ancilla variables to make it QUBO:\n",
    "$\\sum_i y_i-2\\sum_{i\\neq j}y_iy_j+6\\sum_{i\\neq j,i\\neq k,j\\neq k}[w_{i,j}y_k]+6\\sum_{i\\neq j,i\\neq k,j\\neq k}[y_iy_j-2w_{i,j}(y_i+y_j)+3w_{i,j}]$\n",
    "\n",
    "-Constraint to set one node to $n$ for the starting node: $(\\sum_iy_i-n)^2=n^2-(2n-1)\\sum_i y_i+\\sum_{i\\neq j} 2y_iy_j$\n",
    "\n",
    "-Minimum distance objective function:  $w\\sum_{i \\notin start, i \\notin start} y_i$ if $w$ is not there 0 would be a viable solution too. While the constraints only add a penalty or reward of 1/-1, the objective function's penalty grows linearly with the routs length. Therefore, it is imperetive that we nulify the effect of this growth with a small weight. A weight too big wont do shit and a weight too small will make the adiabatic gap very tiny and inceases the error rate. "
   ]
  },
  {
   "cell_type": "code",
   "execution_count": null,
   "metadata": {},
   "outputs": [],
   "source": [
    "import sys\n",
    "from pathlib import Path\n",
    "pp = str(Path('.').absolute().parent)\n",
    "if pp not in sys.path:\n",
    "    sys.path.append(pp)"
   ]
  },
  {
   "cell_type": "code",
   "execution_count": null,
   "metadata": {},
   "outputs": [],
   "source": [
    "#import the necessary shit\n",
    "import matplotlib.pyplot as plt\n",
    "import numpy as np\n",
    "import skopt\n",
    "import skopt.space as space\n",
    "\n",
    "import dwave_networkx as dnx\n",
    "import networkx as nx\n",
    "import minorminer\n",
    "import neal\n",
    "from dwave.system.samplers import DWaveSampler\n",
    "from dwave.system.composites import FixedEmbeddingComposite\n",
    "import dimod\n",
    "\n",
    "from qpr.routing import NetList, Route, get_qubo\n",
    "from qpr.quantum_utils import find_embedding_minorminer\n",
    "\n",
    "%matplotlib inline"
   ]
  },
  {
   "cell_type": "raw",
   "metadata": {},
   "source": [
    "# flip the key-value in a dict\n",
    "def reverse_map(_dict):\n",
    "    # make sure the values are unique, i.e. nothing gets clobbered\n",
    "    assert len(_dict) == len(set(_dict.values()))\n",
    "    return {val: key for key, val in _dict.items()}\n",
    "\n",
    "\n",
    "class RectGridGraph(nx.Graph):\n",
    "    def __init__(self, nrow, ncol):\n",
    "        super().__init__(nx.grid_2d_graph(nrow, ncol))\n",
    "        \n",
    "        self.pos = {n: n for n in self.nodes()}\n",
    "        self.np2l = {edge: idx for idx, edge in enumerate(self.edges)}  # node pair to numerical labels\n",
    "        self.np2qv = {edge: f'y{idx}' for idx, edge in enumerate(self.edges)}  # node pair to qubo var name\n",
    "        self.l2np = reverse_map(self.np2l)\n",
    "        self.qv2np = reverse_map(self.np2qv)\n",
    "\n",
    "    def draw(self, ax=None, edge_labs=True):\n",
    "        nx.draw_networkx_nodes(self, self.pos, node_size=1000, node_color='r', ax=ax)\n",
    "        nx.draw_networkx_edges(self, self.pos, ax=ax)\n",
    "        if edge_labs:\n",
    "            nx.draw_networkx_edge_labels(self, self.pos, self.np2l, font_size=20, ax=ax)\n",
    "\n",
    "    def qubo_answer2node_pairs(self, ans):\n",
    "        # answer is a dict of {qubo var name: 0/1} e.g. {'y0': 0, 'y1': 1, etc}\n",
    "        # it can have auxiliary variables not found in self.np2qv or self.qv2np\n",
    "        return [self.qv2np[var_name] for var_name in self.qv2np if ans[var_name] == 1]\n",
    "    \n",
    "    def highlight_edge_list(self, edge_list, ax=None):\n",
    "        nx.draw_networkx_edges(\n",
    "            self, self.pos, edgelist=edge_list, width=8, edge_color='r', ax=ax\n",
    "        )\n",
    "\n",
    "\n",
    "G = RectGridGraph(3, 3)\n",
    "G.draw()"
   ]
  },
  {
   "cell_type": "code",
   "execution_count": null,
   "metadata": {},
   "outputs": [],
   "source": [
    "edges = [\n",
    "    (6, 7), (7, 8), (6, 3), (7, 4), (8, 5),\n",
    "    (3, 4), (4, 5), (3, 0), (4, 1), (5, 2),\n",
    "    (0, 1), (1, 2),\n",
    "]\n",
    "rev_edges = [(j, i) for i, j in edges]\n",
    "edges = edges + rev_edges\n",
    "edges = edges + [\n",
    "    ('o0', 0),  # (0, 'i0'), (1, 'i1'), ('o1', 1),\n",
    "    # (2, 'i2'), ('o2', 2), (3, 'i3'), ('o3', 3),\n",
    "    # (5, 'i5'), ('o5', 5), (6, 'i6'), ('o6', 6),\n",
    "    (7, 'i7'),  # ('o7', 7), (8, 'i8'), ('o8', 8),\n",
    "]\n",
    "\n",
    "# cartesian frame, i.e. (x, y) pairs, with origin at bottom left\n",
    "pos = {\n",
    "    0: (0, 0), 1: (1, 0), 2: (2, 0), 3: (0, 1),\n",
    "    4: (1, 1), 5: (2, 1), 6: (0, 2), 7: (1, 2),\n",
    "    8: (2, 2), 'o0': (-.8, -.4),  # 'i0': (-.4, -.8),\n",
    "    # 'i1': (.8, -1), 'o1': (1.2, -1), \n",
    "    # 'i2': (2.6, -.4), 'o2': (2.4, -.6),\n",
    "    # 'i3': (-1, .8), 'o3': (-1, 1.2),\n",
    "    # 'i5': (3, .8), 'o5': (3, 1.2),\n",
    "    # 'i6': (-.4, 2.6), 'o6': (-.6, 2.4),\n",
    "    'i7': (.8, 3),  # 'o7': (1.2, 3),\n",
    "    # 'i8': (2.4, 2.6), 'o8': (2.6, 2.4),\n",
    "}\n",
    "super_graph = nx.DiGraph(edges)\n",
    "nx.draw_networkx(super_graph, pos=pos)"
   ]
  },
  {
   "cell_type": "code",
   "execution_count": null,
   "metadata": {
    "scrolled": true
   },
   "outputs": [],
   "source": [
    "route_obj = Route(\n",
    "    super_graph,\n",
    "    NetList([('s1', ['t11']), ]),\n",
    "    set(),\n",
    "    dict(s1='o0', t11='i7'),\n",
    "    pos\n",
    ")\n",
    "route_obj.draw_arch()"
   ]
  },
  {
   "cell_type": "code",
   "execution_count": null,
   "metadata": {
    "scrolled": false
   },
   "outputs": [],
   "source": [
    "Q = get_qubo(route_obj.arch_graph, route_obj.netlist)"
   ]
  },
  {
   "cell_type": "code",
   "execution_count": null,
   "metadata": {},
   "outputs": [],
   "source": [
    "%%time\n",
    "\n",
    "dwave_sampler = DWaveSampler(solver={'lower_noise': True, 'qpu': True})\n",
    "A = dwave_sampler.edgelist\n",
    "embedding, chain_len = find_embedding_minorminer(Q, A, num_tries=5)\n",
    "# the shortest chain_len I've seen with num_tries=1000 is 5\n",
    "# (SP: takes 2.5 mins on my machine)\n",
    "display(chain_len)"
   ]
  },
  {
   "cell_type": "code",
   "execution_count": null,
   "metadata": {},
   "outputs": [],
   "source": [
    "connectivity_structure = dnx.chimera_graph(16,16)\n",
    "fig=plt.figure(figsize=(25, 25))\n",
    "dnx.draw_chimera_embedding(connectivity_structure, embedding)"
   ]
  },
  {
   "cell_type": "markdown",
   "metadata": {},
   "source": [
    "# QPU"
   ]
  },
  {
   "cell_type": "code",
   "execution_count": null,
   "metadata": {},
   "outputs": [],
   "source": [
    "#set up the Qubo\n",
    "def optimize_qannealer(sampler, Q):\n",
    "    response = sampler.sample_qubo(\n",
    "        Q, chain_strength=4, annealing_time=500, auto_scale=True, num_reads=1000\n",
    "    )\n",
    "    return response\n",
    "\n",
    "\n",
    "fixed_sampler = FixedEmbeddingComposite(\n",
    "    DWaveSampler(solver={'lower_noise': True, 'qpu': True}), embedding\n",
    ")\n",
    "q_response = optimize_qannealer(fixed_sampler, Q)"
   ]
  },
  {
   "cell_type": "code",
   "execution_count": null,
   "metadata": {},
   "outputs": [],
   "source": [
    "display(q_response.first)\n",
    "best_q_answer = q_response.first.sample"
   ]
  },
  {
   "cell_type": "code",
   "execution_count": null,
   "metadata": {},
   "outputs": [],
   "source": [
    "qv2np = {f'y{i}': edge for i, edge in enumerate(route_obj.arch_graph.edges)}\n",
    "def qubo_answer2node_pairs(ans):\n",
    "    # answer is a dict of {qubo var name: 0/1} e.g. {'y0': 0, 'y1': 1, etc}\n",
    "    # it can have auxiliary variables not found in self.np2qv or self.qv2np\n",
    "    return [qv2np[var_name] for var_name in qv2np if ans[var_name] == 1]"
   ]
  },
  {
   "cell_type": "code",
   "execution_count": null,
   "metadata": {},
   "outputs": [],
   "source": [
    "# G.draw()\n",
    "\n",
    "# edge_set = G.qubo_answer2node_pairs(q_response.samples()[1])\n",
    "# G.highlight_edge_list(edge_set)\n",
    "\n",
    "fig, ax = plt.subplots()\n",
    "route_obj.edge_list = qubo_answer2node_pairs(best_q_answer)\n",
    "route_obj.draw(draw_netlist=False, draw_subgraph=False, axes=[ax, None, None])\n",
    "ax.set_title(f'{route_obj.score()}');"
   ]
  },
  {
   "cell_type": "code",
   "execution_count": null,
   "metadata": {},
   "outputs": [],
   "source": [
    "def make_ax_grid(n, ax_h=4, ax_w=6, ncols=4):\n",
    "    nrows = int(np.ceil(n / ncols))\n",
    "    fig_h = nrows * ax_h\n",
    "    fig_w = ncols * ax_w\n",
    "    return plt.subplots(nrows=nrows, ncols=ncols, figsize=(fig_w, fig_h))"
   ]
  },
  {
   "cell_type": "markdown",
   "metadata": {},
   "source": [
    "# Exact solver"
   ]
  },
  {
   "cell_type": "code",
   "execution_count": null,
   "metadata": {},
   "outputs": [],
   "source": [
    "len(Q) # this shouldn't be 752, something is probably broken.."
   ]
  },
  {
   "cell_type": "code",
   "execution_count": null,
   "metadata": {},
   "outputs": [],
   "source": [
    "%%time\n",
    "\n",
    "# TODO this eats up the RAM if Q is large\n",
    "# run at your own risk, open the system monitor or something\n",
    "# and keep an eye on the memory usage..\n",
    "assert len(Q) < 30\n",
    "\n",
    "exact_response = dimod.ExactSolver().sample_qubo(Q)\n",
    "display(exact_response.record)"
   ]
  },
  {
   "cell_type": "code",
   "execution_count": null,
   "metadata": {},
   "outputs": [],
   "source": [
    "# .data() sorts by energy by defaults but returns an iterator (not a SampleSet)\n",
    "# the iterator yields a named tuple\n",
    "# .samples(n) sort by energy, take at most n samples, return a SampleArray\n",
    "# which is a view, mapping the var names to the values (i.e returns dicts), It is\n",
    "# indexable i.e. .samples()[10] works\n",
    "# .record returns record array of Sample objects which is basically a \n",
    "# numpy-scliceable list of named tuples (samples). Also .record.energy\n",
    "# returns a numpy array of energies, .record.samples returns a 2d numpy\n",
    "# array of qubo answers etc.\n",
    "# Iterating over the SampleSet, calls .samples() internally, i.e. it gets sorted\n",
    "# .first calls data() internally so it does the sorting anyway!\n",
    "\n",
    "# This function returns all the min energy solutions as a list of {var name: val} dicts\n",
    "def get_all_min_energy(sample_set):\n",
    "    min_energy = np.min(sample_set.record.energy)\n",
    "    # use .record since it is slicing friendly, this returns a 2d-array-like recarray\n",
    "    records = sample_set.record[sample_set.record.energy == min_energy]\n",
    "    # make dicts out of each answer using the original var names (i.e. sample_set.variables)\n",
    "    return [dict(zip(sample_set.variables, i.sample)) for i in records], min_energy"
   ]
  },
  {
   "cell_type": "code",
   "execution_count": null,
   "metadata": {},
   "outputs": [],
   "source": [
    "min_energy_sols, _ = get_all_min_energy(exact_response)\n",
    "fig, axes = make_ax_grid(len(min_energy_sols))\n",
    "display(len(min_energy_sols))\n",
    "\n",
    "for ax, answer_dict in zip(axes.flat, min_energy_sols):\n",
    "    G.draw(edge_labs=False, ax=ax)  # edge_labs=False)\n",
    "\n",
    "    edge_set = G.qubo_answer2node_pairs(answer_dict)\n",
    "    G.highlight_edge_list(edge_set, ax=ax)\n",
    "fig.tight_layout()"
   ]
  },
  {
   "cell_type": "markdown",
   "metadata": {},
   "source": [
    "# Simulated Annealing"
   ]
  },
  {
   "cell_type": "code",
   "execution_count": null,
   "metadata": {
    "scrolled": true
   },
   "outputs": [],
   "source": [
    "%%time\n",
    "\n",
    "\n",
    "\n",
    "Q2 = get_qubo(route_obj.arch_graph, route_obj.netlist, w_and=2)\n",
    "sa_response = neal.SimulatedAnnealingSampler().sample_qubo(Q2, num_reads=1000, seed=1234).aggregate()\n",
    "# display(sa_response)\n",
    "\n",
    "# edge_set = G.qubo_answer2node_pairs(sa_response.first.sample)\n",
    "# G.draw(edge_labs=False)\n",
    "# G.highlight_edge_list(edge_set)\n",
    "\n",
    "min_energy_sols, _ = get_all_min_energy(sa_response)\n",
    "fig, axes = make_ax_grid(len(min_energy_sols[:20]))\n",
    "display(len(min_energy_sols))\n",
    "\n",
    "for ax, answer_dict in zip(axes.flat, min_energy_sols):\n",
    "    route_obj.edge_list = qubo_answer2node_pairs(answer_dict)\n",
    "    route_obj.draw(draw_netlist=False, draw_subgraph=False, axes=[ax, None, None])\n",
    "    ax.set_title(f'{route_obj.score()}')\n",
    "fig.tight_layout()"
   ]
  },
  {
   "cell_type": "code",
   "execution_count": null,
   "metadata": {},
   "outputs": [],
   "source": [
    "def sim_anneal(w1=0, w2=1, w3=1, w4=1, w_and=6):\n",
    "    Q2 = get_qubo(route_obj.arch_graph, route_obj.netlist)\n",
    "    result = neal.SimulatedAnnealingSampler().sample_qubo(\n",
    "        Q, num_reads=1000, seed=1234\n",
    "    ).first.sample\n",
    "    route_obj.edge_list = qubo_answer2node_pairs(result)\n",
    "    score = route_obj.score()\n",
    "    if score == np.inf:\n",
    "        score = 100000000\n",
    "    \n",
    "    return score\n",
    "\n",
    "sim_anneal(w_and=2)"
   ]
  },
  {
   "cell_type": "code",
   "execution_count": null,
   "metadata": {
    "scrolled": true
   },
   "outputs": [],
   "source": [
    "### stick to uniform priors and linear exp to avoid known skopt bugs..sigh\n",
    "search_space = [\n",
    "    space.Real(0, 10, prior='uniform', name='w1'),\n",
    "    space.Real(0, 10, prior='uniform', name='w2'),\n",
    "    space.Real(0, 10, prior='uniform', name='w3'),\n",
    "    space.Real(0, 10, prior='uniform', name='w4'),\n",
    "    space.Real(0, 10, prior='uniform', name='w_and'),\n",
    "]\n",
    "\n",
    "res_gp = skopt.gp_minimize(\n",
    "    sim_anneal, search_space, acq_func='gp_hedge', n_calls=500,\n",
    "    n_random_starts=400, random_state=2, verbose=True,\n",
    ")\n",
    "res_gp.x, res_gp.fun"
   ]
  },
  {
   "cell_type": "code",
   "execution_count": null,
   "metadata": {},
   "outputs": [],
   "source": [
    "gp_best_func_val = np.array(\n",
    "    [np.min(res_gp.func_vals[:i]) for i in range(1, res_gp.func_vals.size+1)]\n",
    ")\n",
    "plt.plot(gp_best_func_val, label='GP best')\n",
    "plt.scatter(np.arange(res_gp.func_vals.size), res_gp.func_vals, label='GP eval')\n",
    "plt.xlabel('Num eval')\n",
    "plt.ylabel('score')\n",
    "plt.legend();"
   ]
  },
  {
   "cell_type": "markdown",
   "metadata": {},
   "source": [
    "# hybrid solution"
   ]
  },
  {
   "cell_type": "code",
   "execution_count": null,
   "metadata": {},
   "outputs": [],
   "source": [
    "import hybrid\n",
    "\n",
    "# Construct a problem\n",
    "offset=0.0\n",
    "#vartype = dimod.BINARY\n",
    "bqm = dimod.BinaryQuadraticModel.from_qubo(Q, offset)\n",
    "\n",
    "# Define the workflow\n",
    "iteration = hybrid.RacingBranches(\n",
    "    hybrid.InterruptableTabuSampler(),\n",
    "    hybrid.EnergyImpactDecomposer(size=2)\n",
    "    | hybrid.QPUSubproblemAutoEmbeddingSampler()\n",
    "    | hybrid.SplatComposer()\n",
    ") | hybrid.ArgMin()\n",
    "workflow = hybrid.LoopUntilNoImprovement(iteration, convergence=3)\n",
    "\n",
    "# Solve the problem\n",
    "init_state = hybrid.State.from_problem(bqm)\n",
    "final_state = workflow.run(init_state).result()\n",
    "\n",
    "# Print results\n",
    "print(\"Solution: sample={.samples.first}\".format(final_state))"
   ]
  },
  {
   "cell_type": "code",
   "execution_count": null,
   "metadata": {},
   "outputs": [],
   "source": [
    "G.draw(edge_labs=False)  # edge_labs=False)\n",
    "\n",
    "edge_set = G.qubo_answer2node_pairs(answer_dict)\n",
    "G.highlight_edge_list(edge_set)\n"
   ]
  }
 ],
 "metadata": {
  "kernelspec": {
   "display_name": "Python 3",
   "language": "python",
   "name": "python3"
  },
  "language_info": {
   "codemirror_mode": {
    "name": "ipython",
    "version": 3
   },
   "file_extension": ".py",
   "mimetype": "text/x-python",
   "name": "python",
   "nbconvert_exporter": "python",
   "pygments_lexer": "ipython3",
   "version": "3.6.8"
  }
 },
 "nbformat": 4,
 "nbformat_minor": 2
}
