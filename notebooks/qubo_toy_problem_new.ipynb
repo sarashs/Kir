{
 "cells": [
  {
   "cell_type": "markdown",
   "metadata": {},
   "source": [
    "Nets are defined as having one source and multiple target.  \n",
    "Note that $x_{i}x_{j} - 2x_{i}y_{ij} - 2x_{j}y_{ij} + 3y_{ij}$ penalty enforces $y_{ij} = x_{i}x_{j}$ (the equality makes it vanish). See \"Quadratic reformulations of nonlinear\n",
    "binary optimization problems\" by Martin Anthony et. al.\n",
    "\n",
    "- Constraint to set one node to 1 for the ending node: $(1-\\sum_i y_i + \\sum_{i\\neq j} 2y_iy_j)$\n",
    "\n",
    "- Constraint to set other nodes to 0 or 2: $(\\sum_jy_j)(2-\\sum_jy_j)^2= \\sum_i y_i-2\\sum_{i\\neq j}y_iy_j+6\\sum_{i\\neq j,i\\neq k,j\\neq j}y_iy_jy_k$. Adding ancilla variables to make it QUBO:\n",
    "$\\sum_i y_i-2\\sum_{i\\neq j}y_iy_j+6\\sum_{i\\neq j,i\\neq k,j\\neq k}[w_{i,j}y_k]+ \\sum_{i\\neq j,i\\neq k,j\\neq k}[y_iy_j-2w_{i,j}(y_i+y_j)+3w_{i,j}]$\n",
    "\n",
    "- Constraint to set one node to $n$ for the starting node: $(\\sum_iy_i-n)^2=n^2-(2n-1)\\sum_i y_i+\\sum_{i\\neq j} 2y_iy_j$\n",
    "\n",
    "- Minimum distance objective function:  $w\\sum_{i} y_i$ if $w$ is not there this term dwarves the terms enforcing the constraints. While the constraints only add a penalty or reward of 1/-1, the objective function's penalty grows linearly with the routs length. Therefore, it is imperetive that we nulify the effect of this growth with a small weight. A weight too big wont do shit and a weight too small will make the adiabatic gap very tiny and inceases the error rate. "
   ]
  },
  {
   "cell_type": "code",
   "execution_count": null,
   "metadata": {},
   "outputs": [],
   "source": [
    "import sys\n",
    "from pathlib import Path\n",
    "pp = str(Path('.').absolute().parent)\n",
    "if pp not in sys.path:\n",
    "    sys.path.append(pp)"
   ]
  },
  {
   "cell_type": "code",
   "execution_count": null,
   "metadata": {},
   "outputs": [],
   "source": [
    "#import the necessary shit\n",
    "import matplotlib.pyplot as plt\n",
    "import numpy as np\n",
    "import skopt\n",
    "import skopt.space as space\n",
    "import requests\n",
    "\n",
    "import dwave_networkx as dnx\n",
    "import networkx as nx\n",
    "import minorminer\n",
    "import neal\n",
    "from dwave.system.samplers import DWaveSampler\n",
    "from dwave.system.composites import FixedEmbeddingComposite\n",
    "from dwave.cloud import exceptions as dwave_exceptions \n",
    "import dimod\n",
    "\n",
    "from qpr.routing import (\n",
    "    NetList, Route, get_qubo, edge_list_from_qubo_answer_dict, qubo_violation\n",
    ")\n",
    "from qpr.quantum_utils import find_embedding_minorminer, get_all_min_energy\n",
    "from qpr.notebook_utils import make_ax_grid\n",
    "\n",
    "%matplotlib inline"
   ]
  },
  {
   "cell_type": "code",
   "execution_count": null,
   "metadata": {},
   "outputs": [],
   "source": [
    "edges = [\n",
    "    (6, 7), (7, 8), (6, 3), (7, 4), (8, 5),\n",
    "    (3, 4), (4, 5), (3, 0), (4, 1), (5, 2),\n",
    "    (0, 1), (1, 2),\n",
    "]\n",
    "rev_edges = [(j, i) for i, j in edges]\n",
    "edges = edges + rev_edges\n",
    "edges = edges + [\n",
    "    ('o0', 0),  # (0, 'i0'), (1, 'i1'), ('o1', 1),\n",
    "    # (2, 'i2'), ('o2', 2), (3, 'i3'), ('o3', 3),\n",
    "    # (5, 'i5'), ('o5', 5), (6, 'i6'), ('o6', 6),\n",
    "    (7, 'i7'),  # ('o7', 7), (8, 'i8'), ('o8', 8),\n",
    "]\n",
    "\n",
    "# cartesian frame, i.e. (x, y) pairs, with origin at bottom left\n",
    "pos = {\n",
    "    0: (0, 0), 1: (1, 0), 2: (2, 0), 3: (0, 1),\n",
    "    4: (1, 1), 5: (2, 1), 6: (0, 2), 7: (1, 2),\n",
    "    8: (2, 2), 'o0': (-.8, -.4),  # 'i0': (-.4, -.8),\n",
    "    # 'i1': (.8, -1), 'o1': (1.2, -1), \n",
    "    # 'i2': (2.6, -.4), 'o2': (2.4, -.6),\n",
    "    # 'i3': (-1, .8), 'o3': (-1, 1.2),\n",
    "    # 'i5': (3, .8), 'o5': (3, 1.2),\n",
    "    # 'i6': (-.4, 2.6), 'o6': (-.6, 2.4),\n",
    "    'i7': (.8, 3),  # 'o7': (1.2, 3),\n",
    "    # 'i8': (2.4, 2.6), 'o8': (2.6, 2.4),\n",
    "}\n",
    "super_graph = nx.DiGraph(edges)\n",
    "nx.draw_networkx(super_graph, pos=pos)"
   ]
  },
  {
   "cell_type": "code",
   "execution_count": null,
   "metadata": {
    "scrolled": false
   },
   "outputs": [],
   "source": [
    "route_obj = Route(\n",
    "    super_graph,\n",
    "    NetList([('s1', ['t11']), ]),\n",
    "    set(),\n",
    "    dict(s1='o0', t11='i7'),\n",
    "    pos\n",
    ")\n",
    "route_obj.draw_arch()"
   ]
  },
  {
   "cell_type": "code",
   "execution_count": null,
   "metadata": {},
   "outputs": [],
   "source": []
  },
  {
   "cell_type": "code",
   "execution_count": null,
   "metadata": {
    "scrolled": true
   },
   "outputs": [],
   "source": [
    "# H = G.to_undirected(as_view=True) is the fastest but its H.number_of_edges() or len(H.edges)\n",
    "# returns the number of edges in G (oddly enough, iterating through the edges \n",
    "# i.e. for i in or H.edges or list(H) yields the correct set of edges:|).\n",
    "# nx.Graph(G) does a shallow copy and G.to_undirected() does a deep copy.\n",
    "\n",
    "# Doing this with the directed graph doubles the number of variables..\n",
    "Q = get_qubo(nx.Graph(route_obj.arch_graph), route_obj.placed_netlist)"
   ]
  },
  {
   "cell_type": "code",
   "execution_count": null,
   "metadata": {},
   "outputs": [],
   "source": [
    "%%time\n",
    "\n",
    "dwave_sampler = DWaveSampler(solver={'lower_noise': True, 'qpu': True})\n",
    "A = dwave_sampler.edgelist\n",
    "embedding, chain_len = find_embedding_minorminer(Q, A, num_tries=5)\n",
    "# the shortest chain_len I've seen with num_tries=1000 is 5\n",
    "# (SP: takes 2.5 mins on my machine)\n",
    "display(chain_len)"
   ]
  },
  {
   "cell_type": "raw",
   "metadata": {},
   "source": [
    "connectivity_structure = dnx.chimera_graph(16,16)\n",
    "fig=plt.figure(figsize=(25, 25))\n",
    "dnx.draw_chimera_embedding(connectivity_structure, embedding)"
   ]
  },
  {
   "cell_type": "raw",
   "metadata": {},
   "source": [
    "from itertools import combinations, combinations_with_replacement as cwr\n",
    "\n",
    "def get_qubo2(arch_graph, netlist):\n",
    "    assert len(netlist.net_list) == 1  # assume one net\n",
    "    assert len(netlist.net_list[0][1]) == 1  # assume one target\n",
    "\n",
    "    Q = {}\n",
    "    for edge1, edge2 in cwr(arch_graph.edges(), 2):\n",
    "        Q[(edge1, edge2)] = 0\n",
    "    for i in Q:\n",
    "        if 'i7' in i[0] and 7 in i[0]:\n",
    "            print(i)\n",
    "    \n",
    "    nonterm_nodes = arch_graph.nodes - netlist.all_source_nodes - netlist.all_target_nodes\n",
    "\n",
    "    for n in netlist.all_target_nodes:\n",
    "        edge_list = arch_graph.edges(n)\n",
    "        for edge1, edge2 in cwr(edge_list, 2):\n",
    "            if edge1 == edge2:  # \\sum[y_i]\n",
    "                Q[edge1, edge2] -= w_target\n",
    "            else:               # \\sum[y_i x y_j], i != j\n",
    "                Q[edge1, edge2] += 2 * w_target\n",
    "    \n",
    "    for n in netlist.all_source_nodes:\n",
    "        edge_list = arch_graph.edges(n)\n",
    "        for edge1, edge2 in cwr(edge_list, 2):\n",
    "            if edge1 == edge2:  # \\sum[y_i]\n",
    "                # we are assuming there is only one target in each net (the second assert above)\n",
    "                # therefore in the formula n = 1\n",
    "                Q[edge1, edge2] -= w_target\n",
    "            else:               # \\sum[y_i x y_j], i != j\n",
    "                Q[edge1, edge2] += 2 * w_source\n",
    "    \n",
    "    for n in nonterm_nodes:\n",
    "        edge_list = arch_graph.edges(n)\n",
    "        for edge1, edge2 in cwr(edge_list, 2):\n",
    "            if edge1 == edge2:  # \\sum[y_i]\n",
    "                Q[edge1, edge2] += w_nonterm\n",
    "            else:               # \\sum[y_i x y_j], i != j\n",
    "                Q[edge1, edge2] -= 2 * w_source\n",
    "        for edge1, edge2, edge3 in combinations(edge_list, 3):\n",
    "            pass\n",
    "            \n",
    "        \n",
    "    \n",
    "    for edge in arch_graph.edges:  # \\sum[y_i]\n",
    "        Q[edge, edge] += w_obj\n",
    "    \n",
    "    return Q\n",
    "get_qubo(nx.Graph(route_obj.arch_graph), route_obj.placed_netlist)"
   ]
  },
  {
   "cell_type": "markdown",
   "metadata": {},
   "source": [
    "# QPU"
   ]
  },
  {
   "cell_type": "code",
   "execution_count": null,
   "metadata": {
    "scrolled": false
   },
   "outputs": [],
   "source": [
    "fixed_sampler = FixedEmbeddingComposite(\n",
    "    DWaveSampler(solver={'lower_noise': True, 'qpu': True}), embedding\n",
    ")\n",
    "\n",
    "# Q = get_qubo(\n",
    "#     nx.Graph(route_obj.arch_graph), route_obj.placed_netlist, w_obj=0.1, w_target=100,\n",
    "#     w_nonterm=1, w_source=100, w_and=6,\n",
    "# )\n",
    "Q = get_qubo(\n",
    "    nx.Graph(route_obj.arch_graph), route_obj.placed_netlist, w_obj=1, w_target=2,\n",
    "    w_nonterm=1, w_source=3, w_and=5,\n",
    ")\n",
    "q_response = fixed_sampler.sample_qubo(\n",
    "    Q, chain_strength=4, annealing_time=500, auto_scale=True, num_reads=1000\n",
    ")\n",
    "\n",
    "display(q_response.first)\n",
    "best_q_answer = q_response.first.sample\n",
    "\n",
    "score_vec = qubo_violation(\n",
    "    best_q_answer, route_obj.all_source_nodes, route_obj.all_target_nodes,\n",
    "    route_obj.all_nt_nodes\n",
    ")\n",
    "display(f'violations: {score_vec}')\n",
    "\n",
    "best_q_answer = [eval(i[1:]) for i in best_q_answer if best_q_answer[i] == 1 and i[0] == 'y']\n",
    "display(best_q_answer)"
   ]
  },
  {
   "cell_type": "code",
   "execution_count": null,
   "metadata": {},
   "outputs": [],
   "source": [
    "fig, ax = plt.subplots()\n",
    "route_obj.edge_list = best_q_answer\n",
    "route_obj.draw(draw_netlist=False, draw_subgraph=False, axes=[ax, None, None])\n",
    "ax.set_title(f'{route_obj.score()}');"
   ]
  },
  {
   "cell_type": "markdown",
   "metadata": {},
   "source": [
    "# Exact solver"
   ]
  },
  {
   "cell_type": "code",
   "execution_count": null,
   "metadata": {},
   "outputs": [],
   "source": [
    "%%time\n",
    "\n",
    "# TODO this eats up the RAM if Q is large\n",
    "# run at your own risk, open the system monitor or something\n",
    "# and keep an eye on the memory usage..\n",
    "assert len(Q) < 100\n",
    "\n",
    "exact_response = dimod.ExactSolver().sample_qubo(Q)\n",
    "display(exact_response.record)"
   ]
  },
  {
   "cell_type": "code",
   "execution_count": null,
   "metadata": {
    "scrolled": false
   },
   "outputs": [],
   "source": [
    "min_energy_sols, _ = get_all_min_energy(exact_response)\n",
    "fig, axes = make_ax_grid(len(min_energy_sols))\n",
    "display(len(min_energy_sols))\n",
    "\n",
    "for ax, answer_dict in zip(axes.flat, min_energy_sols):\n",
    "    display(answer_dict)\n",
    "    route_obj.edge_list = edge_list_from_qubo_answer_dict(answer_dict)\n",
    "    display(route_obj.edge_list)\n",
    "    route_obj.draw(draw_netlist=False, draw_subgraph=False, axes=[ax, None, None])\n",
    "    display(route_obj.edge_list, route_obj.arch_graph.edges)\n",
    "    #nx.draw_networkx_edges(route_obj.arch_graph, edgelist=route_obj.edge_list, ax=ax, pos=route_obj.pos, edge_color='r', node_size=900, width=8)\n",
    "\n",
    "\n",
    "fig.tight_layout()"
   ]
  },
  {
   "cell_type": "code",
   "execution_count": null,
   "metadata": {},
   "outputs": [],
   "source": [
    "verify_and(answer_dict), min_energy_sols, Q"
   ]
  },
  {
   "cell_type": "markdown",
   "metadata": {},
   "source": [
    "# Simulated Annealing"
   ]
  },
  {
   "cell_type": "raw",
   "metadata": {
    "scrolled": true
   },
   "source": [
    "%%time\n",
    "\n",
    "\n",
    "\n",
    "Q2 = get_qubo(route_obj.arch_graph, route_obj.placed_netlist, w_and=2)\n",
    "sa_response = neal.SimulatedAnnealingSampler().sample_qubo(Q2, num_reads=1000, seed=1234).aggregate()\n",
    "# display(sa_response)\n",
    "\n",
    "# edge_set = G.qubo_answer2node_pairs(sa_response.first.sample)\n",
    "# G.draw(edge_labs=False)\n",
    "# G.highlight_edge_list(edge_set)\n",
    "\n",
    "min_energy_sols, _ = get_all_min_energy(sa_response)\n",
    "fig, axes = make_ax_grid(len(min_energy_sols[:20]))\n",
    "display(len(min_energy_sols))\n",
    "\n",
    "for ax, answer_dict in zip(axes.flat, min_energy_sols):\n",
    "    route_obj.edge_list = qubo_answer2node_pairs(answer_dict)\n",
    "    route_obj.draw(draw_netlist=False, draw_subgraph=False, axes=[ax, None, None])\n",
    "    ax.set_title(f'{route_obj.score()}')\n",
    "fig.tight_layout()"
   ]
  },
  {
   "cell_type": "raw",
   "metadata": {},
   "source": [
    "def sim_anneal(w1=0, w2=1, w3=1, w4=1, w_and=6):\n",
    "    Q2 = get_qubo(route_obj.arch_graph, route_obj.netlist)\n",
    "    result = neal.SimulatedAnnealingSampler().sample_qubo(\n",
    "        Q, num_reads=1000, seed=1234\n",
    "    ).first.sample\n",
    "    route_obj.edge_list = qubo_answer2node_pairs(result)\n",
    "    score = route_obj.score()\n",
    "    if score == np.inf:\n",
    "        score = 100000000\n",
    "    \n",
    "    return score\n",
    "\n",
    "sim_anneal(w_and=2)"
   ]
  },
  {
   "cell_type": "code",
   "execution_count": null,
   "metadata": {},
   "outputs": [],
   "source": [
    "import time\n",
    "\n",
    "def optimize_qannealer(args):\n",
    "    w_obj, w_target, w_nonterm, w_source, w_and = args\n",
    "    Q = get_qubo(\n",
    "        nx.Graph(route_obj.arch_graph), route_obj.placed_netlist, w_obj=w_obj,\n",
    "        w_target=w_target, w_nonterm=w_nonterm, w_source=w_source, w_and=w_and,\n",
    "    )\n",
    "    \n",
    "    #embedding, _ = find_embedding_minorminer(Q, A, num_tries=5)\n",
    "\n",
    "    count = 0\n",
    "    succeeded = False\n",
    "    while not succeeded:\n",
    "        try:\n",
    "            count += 1\n",
    "            response = fixed_sampler.sample_qubo(\n",
    "                Q, chain_strength=4, annealing_time=500, auto_scale=True, num_reads=1000\n",
    "            )\n",
    "            succeeded = True\n",
    "        except dwave_exceptions.RequestTimeout as e:\n",
    "            display(f'--------------------failed count-------------------------: {count}')\n",
    "            succeeded = False\n",
    "            time.sleep(5)\n",
    "        except requests.exceptions.ConnectionError as e:\n",
    "            display(f'--------------------failed count-------------------------: {count}')\n",
    "            succeeded = False\n",
    "            time.sleep(5)            \n",
    "        except Exception as e:\n",
    "            display(f'type: {type(e)}')\n",
    "            display(e)\n",
    "            raise(e)\n",
    "    \n",
    "    result = response.first.sample\n",
    "    score_dict = qubo_violation(\n",
    "        result, route_obj.all_source_nodes, route_obj.all_target_nodes,\n",
    "        route_obj.all_nt_nodes\n",
    "    )\n",
    "    score = score_dict['obj'] + 3 * np.sum([score_dict[i] for i in ('s', 't', 'and', 'nt')])\n",
    "    \n",
    "    # result = [eval(i[1:]) for i in result if result[i] == 1 and i[0] == 'y']\n",
    "    \n",
    "    # route_obj.edge_list = result\n",
    "    # score = route_obj.score()\n",
    "    # if score == np.inf:\n",
    "    #     score = 100000000\n",
    "    \n",
    "    return score"
   ]
  },
  {
   "cell_type": "code",
   "execution_count": null,
   "metadata": {
    "scrolled": true
   },
   "outputs": [],
   "source": [
    "%%time\n",
    "\n",
    "### stick to uniform priors and linear exp to avoid known skopt bugs..sigh\n",
    "search_space = [\n",
    "    space.Real(1e-1, 10, prior='uniform', name='w_obj'),\n",
    "    space.Real(1e-1, 10, prior='uniform', name='w_target'),\n",
    "    space.Real(1e-1, 10, prior='uniform', name='w_nonterm'),\n",
    "    space.Real(1e-1, 10, prior='uniform', name='w_source'),\n",
    "    space.Real(1e-1, 10, prior='uniform', name='w_and'),\n",
    "]\n",
    "\n",
    "res_gp = skopt.gp_minimize(\n",
    "    optimize_qannealer, search_space, acq_func='gp_hedge', n_calls=200,\n",
    "    n_random_starts=150, random_state=2, verbose=True,\n",
    ")\n",
    "res_gp.x, res_gp.fun"
   ]
  },
  {
   "cell_type": "code",
   "execution_count": null,
   "metadata": {},
   "outputs": [],
   "source": [
    "gp_best_func_val = np.array(\n",
    "    [np.min(res_gp.func_vals[:i]) for i in range(1, res_gp.func_vals.size+1)]\n",
    ")\n",
    "plt.plot(gp_best_func_val, label='GP best')\n",
    "plt.scatter(np.arange(res_gp.func_vals.size), res_gp.func_vals, label='GP eval')\n",
    "plt.xlabel('Num eval')\n",
    "plt.ylabel('score')\n",
    "plt.legend();\n",
    "\n",
    "Q = get_qubo(\n",
    "    nx.Graph(route_obj.arch_graph), route_obj.placed_netlist, w_obj=res_gp.x[0],\n",
    "    w_target=res_gp.x[1], w_nonterm=res_gp.x[2], w_source=res_gp.x[3], w_and=res_gp.x[4],\n",
    ")\n",
    "response = fixed_sampler.sample_qubo(\n",
    "    Q, chain_strength=4, annealing_time=500, auto_scale=True, num_reads=1000\n",
    ")\n",
    "response = response.first.sample\n",
    "route_obj.edge_list = edge_list_from_qubo_answer_dict(response)\n",
    "\n",
    "fig, ax = plt.subplots()\n",
    "route_obj.draw(draw_netlist=False, draw_subgraph=False, axes=[ax, None, None])\n",
    "ax.set_title(f'{route_obj.score()}');"
   ]
  },
  {
   "cell_type": "code",
   "execution_count": null,
   "metadata": {},
   "outputs": [],
   "source": [
    "res_gp.x"
   ]
  },
  {
   "cell_type": "markdown",
   "metadata": {},
   "source": [
    "# hybrid solution"
   ]
  },
  {
   "cell_type": "code",
   "execution_count": null,
   "metadata": {},
   "outputs": [],
   "source": [
    "import hybrid\n",
    "\n",
    "# Construct a problem\n",
    "offset=0.0\n",
    "#vartype = dimod.BINARY\n",
    "bqm = dimod.BinaryQuadraticModel.from_qubo(Q, offset)\n",
    "\n",
    "# Define the workflow\n",
    "iteration = hybrid.RacingBranches(\n",
    "    hybrid.InterruptableTabuSampler(),\n",
    "    hybrid.EnergyImpactDecomposer(size=2)\n",
    "    | hybrid.QPUSubproblemAutoEmbeddingSampler()\n",
    "    | hybrid.SplatComposer()\n",
    ") | hybrid.ArgMin()\n",
    "workflow = hybrid.LoopUntilNoImprovement(iteration, convergence=3)\n",
    "\n",
    "# Solve the problem\n",
    "init_state = hybrid.State.from_problem(bqm)\n",
    "final_state = workflow.run(init_state).result()\n",
    "\n",
    "# Print results\n",
    "print(\"Solution: sample={.samples.first}\".format(final_state))"
   ]
  },
  {
   "cell_type": "code",
   "execution_count": null,
   "metadata": {},
   "outputs": [],
   "source": [
    "G.draw(edge_labs=False)  # edge_labs=False)\n",
    "\n",
    "edge_set = G.qubo_answer2node_pairs(answer_dict)\n",
    "G.highlight_edge_list(edge_set)\n"
   ]
  }
 ],
 "metadata": {
  "kernelspec": {
   "display_name": "Python 3",
   "language": "python",
   "name": "python3"
  }
 },
 "nbformat": 4,
 "nbformat_minor": 2
}
