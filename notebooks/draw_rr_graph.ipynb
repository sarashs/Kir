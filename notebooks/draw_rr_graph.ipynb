{
 "cells": [
  {
   "cell_type": "code",
   "execution_count": null,
   "metadata": {},
   "outputs": [],
   "source": [
    "import sys\n",
    "from pathlib import Path\n",
    "pp = str(Path('.').absolute().parent)\n",
    "if pp not in sys.path:\n",
    "    sys.path.append(pp)"
   ]
  },
  {
   "cell_type": "code",
   "execution_count": null,
   "metadata": {},
   "outputs": [],
   "source": [
    "from pathlib import Path\n",
    "import matplotlib.pyplot as plt \n",
    "import networkx as nx\n",
    "import numpy as np\n",
    "\n",
    "from qpr.vtr_utils import parse_rr_graph_xml, pos_rr_graph, draw_rr_graph\n",
    "\n",
    "%matplotlib inline"
   ]
  },
  {
   "cell_type": "code",
   "execution_count": null,
   "metadata": {},
   "outputs": [],
   "source": [
    "np.random.seed(1234)\n",
    "\n",
    "fpath = Path().absolute().parent / 'sharedgraphstuff' / 'rrgraph.xml'\n",
    "graph, node_dict, grid_dict, clock_nodes = parse_rr_graph_xml(fpath)\n",
    "display(f'num edges: {len(graph.edges)}, num nodes: {len(graph.nodes)}')"
   ]
  },
  {
   "cell_type": "raw",
   "metadata": {},
   "source": [
    "chan_nodes = {i for i in node_dict if node_dict[i]['type'] in ('CHANX', 'CHANY')}\n",
    "iopin_nodes = {i for i in node_dict if node_dict[i]['type'] in ('OPIN', 'IPIN')}\n",
    "undir = graph.to_undirected(as_view=True)\n",
    "\n",
    "# remove the clock pins and routing terminal nodes\n",
    "node_dict = {i: node_dict[i] for i in node_dict if not node_dict[i]['is_clock']}\n",
    "# remove iopins that don't connect to any wires (e.g. far sides of io blocks)\n",
    "node_dict = {\n",
    "    i: node_dict[i] for i in node_dict\n",
    "    if i not in iopin_nodes or chan_nodes.intersection(undir[i])\n",
    "}\n",
    "# after this, there should be no zero degree nodes otherwise\n",
    "# xml parsing assumptions may be violated..\n",
    "assert np.all([undir.degree(i) > 0 for i in node_dict])\n",
    "display(f'num edges: {len(graph.subgraph(list(node_dict.keys())).edges)}, num nodes: {len(node_dict)}')"
   ]
  },
  {
   "cell_type": "code",
   "execution_count": null,
   "metadata": {
    "scrolled": false
   },
   "outputs": [],
   "source": [
    "%%time\n",
    "# %matplotlib notebook\n",
    "# fig, ax = plt.subplots(figsize=(10, 10))\n",
    "fig, ax = plt.subplots(figsize=(25, 25))\n",
    "\n",
    "# dx, dy from the center of the tile to get to the start of the bbox edge, and\n",
    "# laying out the pins in order clockwise around the bounding box of the (sub?)block\n",
    "# step_dx, step_dy, which way to move along the edge to place the pins\n",
    "side_deltas = dict(\n",
    "    RIGHT=np.array([1, 1, 0, -1]), BOTTOM=np.array([1, -1, -1, 0]),\n",
    "    LEFT=np.array([-1, -1, 0, 1]), TOP=np.array([-1, 1, 1, 0])\n",
    ")\n",
    "# IOPIN, create concentric rings to avoid overlap\n",
    "# SINK/SOURCE linear set of nodes just offset vertically\n",
    "fudge_factor = dict(SINK=.1, SOURCE=0, IPIN=.1, OPIN=0)\n",
    "# w, h, channel bounding box size\n",
    "# orig_offset_x, orig_offset_y, origin of the coordinate system for channel\n",
    "# location is offset relative the coordinate system for blocks\n",
    "chan_bbox = dict(CHANX=(1, .1, 0, 1), CHANY=(.1, 1, 1, 0))\n",
    "# the edges of the bounding box of a block is this much away from its center\n",
    "bbb_half_edge = .2\n",
    "# put the route node (SINK/SOURCE) bouding boxs in side of a smaller bounding\n",
    "# box inside of the block bounding box\n",
    "rnbb_half_edge = .15\n",
    "\n",
    "pos = pos_rr_graph(node_dict, grid_dict, side_deltas, fudge_factor, chan_bbox, bbb_half_edge)\n",
    "\n",
    "\n",
    "node_cols = dict(\n",
    "    SOURCE='r', SINK='tab:blue', CHANX='y', CHANY='y', IPIN='g', OPIN='m'\n",
    ")\n",
    "draw_subgraph = graph.subgraph(list(pos.keys()))\n",
    "for i in node_cols:\n",
    "    draw_nodes = [j for j in node_dict if node_dict[j]['type'] == i]\n",
    "    nx.draw_networkx(\n",
    "        draw_subgraph, nodelist=draw_nodes, edgelist=[], pos=pos,\n",
    "        node_color=node_cols[i],\n",
    "    )\n",
    "draw_nodes = [i for i in node_dict if node_dict[i]['is_clock']]\n",
    "nx.draw_networkx(\n",
    "    draw_subgraph, nodelist=draw_nodes, edgelist=[], pos=pos,\n",
    "    node_color='tab:brown',\n",
    ")\n",
    "    \n",
    "nx.draw_networkx_edges(draw_subgraph, pos=pos)\n",
    "# nx.draw_networkx(draw_subgraph, pos=pos, ax=ax)\n",
    "ax.tick_params(left=True, bottom=True, labelleft=True, labelbottom=True)\n",
    "ax.grid(True)\n",
    "fig.tight_layout()"
   ]
  }
 ],
 "metadata": {
  "kernelspec": {
   "display_name": "Python 3",
   "language": "python",
   "name": "python3"
  },
  "language_info": {
   "codemirror_mode": {
    "name": "ipython",
    "version": 3
   },
   "file_extension": ".py",
   "mimetype": "text/x-python",
   "name": "python",
   "nbconvert_exporter": "python",
   "pygments_lexer": "ipython3",
   "version": "3.6.8"
  }
 },
 "nbformat": 4,
 "nbformat_minor": 2
}
