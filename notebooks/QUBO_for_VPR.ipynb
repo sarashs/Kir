{
 "cells": [
  {
   "cell_type": "markdown",
   "metadata": {},
   "source": [
    "# VPR specific QUBO\n",
    "\n",
    "### Constraint on edges for all of the nets:\n",
    "\n",
    "$\\sum_{i \\in \\{edges\\}}\\sum_{p, q \\in \\{nets\\} p \\neq q} \\sum_{r \\in p, s \\in q} y_{p,r,i}y_{q,s,i}$\n",
    "\n",
    "### Constraint on edges for the source node on each rout of each net: \n",
    "\n",
    "$(1-\\sum_i y_{p,r,i} + \\sum_{i\\neq j} 2y_{p,r,i}y_{p,r,j})$\n",
    "\n",
    "### Constraint on wires (CHANX CHANY) to make sure they have one input and as many outputs as inputs:\n",
    "\n",
    "$\\sum_{i,j \\in input, i \\neq j} x_{p,r,i}x_{p,r,j} + (\\sum_{i, x \\in input x_{p,r,i}} - \\sum_{j, y \\in output} y_{p,r,j} )^2$\n",
    "\n",
    "### The objective function and heuristic for coeficient are from the QUBO_toy_problem_old "
   ]
  },
  {
   "cell_type": "code",
   "execution_count": 1,
   "metadata": {},
   "outputs": [],
   "source": [
    "#import xml.etree.ElementTree as ET\n",
    "from pathlib import Path\n",
    "# from qpr.routing import NetList, Route\n",
    "import networkx as nx\n",
    "import matplotlib.pyplot as plt\n",
    "import numpy as np\n",
    "import sys\n",
    "import pickle\n",
    "from pathlib import Path\n",
    "pp = str(Path('.').absolute().parent)\n",
    "if pp not in sys.path:\n",
    "    sys.path.append(pp)\n",
    "from  qpr.vtr_utils import parse_rr_graph_xml\n",
    "\n",
    "from itertools import combinations_with_replacement as cwr\n",
    "from itertools import product as prd\n",
    "\n",
    "import re\n",
    "\n",
    "%matplotlib inline"
   ]
  },
  {
   "cell_type": "code",
   "execution_count": 31,
   "metadata": {},
   "outputs": [],
   "source": [
    "name = 'sharedgraphstuff/example2'\n",
    "fpath = Path(name + '.xml')\n",
    "graph, rr_nodes, _ , _ = parse_rr_graph_xml(fpath)"
   ]
  },
  {
   "cell_type": "raw",
   "metadata": {
    "scrolled": true
   },
   "source": [
    "fig=plt.figure(figsize=(25, 25))\n",
    "nx.draw_networkx(graph)"
   ]
  },
  {
   "cell_type": "code",
   "execution_count": 32,
   "metadata": {},
   "outputs": [],
   "source": [
    "# This is how we define a net\n",
    "#nets = {1 : {'SOURCE' : '199','SINK' : ['120']}}"
   ]
  },
  {
   "cell_type": "code",
   "execution_count": 33,
   "metadata": {},
   "outputs": [],
   "source": [
    "# To read the netlist from the route file\n",
    "fpath = Path(name +'.route')\n",
    "with open(fpath, 'r') as f:\n",
    "    datalines = f.readlines()\n",
    "net_num = 0\n",
    "nets = {}\n",
    "for item in datalines:\n",
    "    if 'SOURCE' in item:\n",
    "        net_num += 1\n",
    "        nets[net_num] = {'SOURCE' : re.findall(r'\\d+', item[:item.find('SOURCE')])[0] ,'SINK' : []}\n",
    "    if 'SINK' in item:\n",
    "        #print(re.findall(r'\\d+', item[:item.find('SINK')]))\n",
    "        nets[net_num]['SINK'] += (re.findall(r'\\d+', item[:item.find('SINK')]))"
   ]
  },
  {
   "cell_type": "markdown",
   "metadata": {},
   "source": [
    "### Some preprocessing and claen ups"
   ]
  },
  {
   "cell_type": "code",
   "execution_count": 34,
   "metadata": {},
   "outputs": [],
   "source": [
    "# remove useless nodes perhaps this should be made into a \n",
    "degrees = {node:val for (node, val) in graph.degree()}\n",
    "#graph, rr_nodes = parse_rr_graph_xml(fpath)\n",
    "graph1 = graph.copy()\n",
    "SINK_dict = {}\n",
    "SOURCE_dict = {}\n",
    "nets_source = []\n",
    "nets_sink = [] \n",
    "for i in rr_nodes.keys():\n",
    "    if (not(rr_nodes[i]['type'] in ['SOURCE', 'SINK']) and degrees[i] == 1):\n",
    "        graph1.remove_node(i)\n",
    "graph2 = graph1.copy()\n",
    "degrees = {node:val for (node, val) in graph1.degree()}\n",
    "for i in graph1.nodes:\n",
    "    if degrees[i] == 0:\n",
    "        graph2.remove_node(i)\n",
    "for item in nets.keys():\n",
    "    nets_source.append(nets[item]['SOURCE'])\n",
    "    nets_sink += nets[item]['SINK']\n",
    "    SINK_dict.update(dict(graph2.in_edges(nets[item]['SINK']))) \n",
    "    SOURCE_dict.update(dict(graph2.out_edges(nets[item]['SOURCE'])))\n",
    "#remove Source/Sinks that are not in the net\n",
    "graph3 = graph2.copy()\n",
    "for i in graph2.nodes:\n",
    "    if rr_nodes[i]['type'] == 'SOURCE' and not (i in nets_source):\n",
    "        graph3.remove_node(i)\n",
    "    elif rr_nodes[i]['type'] == 'SINK' and not (i in nets_sink):\n",
    "        graph3.remove_node(i)\n",
    "    elif rr_nodes[i]['type'] == 'IPIN' and not(i in SINK_dict.keys()):\n",
    "        graph3.remove_node(i)\n",
    "    elif rr_nodes[i]['type'] == 'OPIN' and not(i in SOURCE_dict.values()):\n",
    "        graph3.remove_node(i)"
   ]
  },
  {
   "cell_type": "raw",
   "metadata": {
    "scrolled": true
   },
   "source": [
    "fig=plt.figure(figsize=(25, 25))\n",
    "nx.draw_networkx(graph.subgraph(graph3.nodes))\n",
    "len(graph3.nodes)"
   ]
  },
  {
   "cell_type": "code",
   "execution_count": 35,
   "metadata": {},
   "outputs": [],
   "source": [
    "#nets"
   ]
  },
  {
   "cell_type": "code",
   "execution_count": 36,
   "metadata": {},
   "outputs": [
    {
     "data": {
      "text/plain": [
       "2907"
      ]
     },
     "execution_count": 36,
     "metadata": {},
     "output_type": "execute_result"
    }
   ],
   "source": [
    "len(graph3)"
   ]
  },
  {
   "cell_type": "code",
   "execution_count": 37,
   "metadata": {},
   "outputs": [],
   "source": [
    "def VPR2QUBO(G, nets, rr_nodes):\n",
    "    Q = {}\n",
    "    relevant_edge_list = []\n",
    "    for net in nets.keys():\n",
    "        #Constraint on SOURCE    \n",
    "        for r, _ in enumerate(nets[net]['SINK']):\n",
    "            pair_list = []\n",
    "            for item in G.out_edges(nets[net]['SOURCE']):\n",
    "                if not (item in relevant_edge_list):\n",
    "                    relevant_edge_list.append(item)\n",
    "                pair_list.append(f'Net_{net}_Edge_{item}_Rout_{r}')\n",
    "            for i, j in cwr(pair_list, 2):\n",
    "                if i == j:\n",
    "                    Q[(i, j)] = -1\n",
    "                else:\n",
    "                    Q[(i, j)] = 2\n",
    "        #Constraint on SINK\n",
    "        for r, sink_node in enumerate(nets[net]['SINK']):\n",
    "            pair_list = []\n",
    "            for item in G.in_edges(sink_node):\n",
    "                if not (item in relevant_edge_list):\n",
    "                    relevant_edge_list.append(item)\n",
    "                pair_list.append(f'Net_{net}_Edge_{item}_Rout_{r}')\n",
    "            for i, j in cwr(pair_list, 2):\n",
    "                if i == j:\n",
    "                    Q[(i, j)] = -1\n",
    "                else:\n",
    "                    Q[(i, j)] = 2\n",
    "        #Constraint on Wires\n",
    "        for r, sinks in enumerate(nets[net]['SINK']):\n",
    "            distance = nx.dijkstra_path_length(graph.subgraph(graph3.nodes), nets[net]['SOURCE'], sinks)\n",
    "            for item in G.nodes:\n",
    "                pair_list_in = []\n",
    "                pair_list_out = []\n",
    "                if not (rr_nodes[item]['type'] in ['SINK', 'SOURCE', 'IPIN', 'OPIN']):\n",
    "                    for i in G.in_edges(item):\n",
    "                        if not (item in relevant_edge_list):\n",
    "                            relevant_edge_list.append(item)  \n",
    "                        pair_list_in.append(f'Net_{net}_Edge_{i}_Rout_{r}')\n",
    "                    for i in G.out_edges(item):\n",
    "                        if not (item in relevant_edge_list):\n",
    "                            relevant_edge_list.append(item) \n",
    "                        pair_list_out.append(f'Net_{net}_Edge_{i}_Rout_{r}')\n",
    "                    #making sure that there is only one input to the node\n",
    "                    for i, j in cwr(pair_list_in, 2):\n",
    "                        if i != j:\n",
    "                            Q[(i, j)] = 1\n",
    "                    #making sure that there are as many inputs as outputs\n",
    "                    for i, j in cwr(pair_list_in, 2):\n",
    "                        if i == j:\n",
    "                            Q[(i, j)] = 1\n",
    "                        else:\n",
    "                            Q[(i, j)] = 2\n",
    "                    for i, j in cwr(pair_list_out, 2):\n",
    "                        if i == j:\n",
    "                            Q[(i, j)] = 1\n",
    "                        else:\n",
    "                            Q[(i, j)] = 2\n",
    "                    for i in pair_list_in:\n",
    "                        for j in pair_list_out:\n",
    "                            Q[(i, j)] = -2\n",
    "        #Objective function: trying to minimize the number of edges(switches)\n",
    "                    for i in pair_list_in:\n",
    "                        Q[(i, i)] += 1 / distance\n",
    "                    for i in pair_list_out:\n",
    "                        Q[(i, i)] += 1 / distance\n",
    "# constraints on the edges of various nets\n",
    "    for i in relevant_edge_list:\n",
    "        for p, q in cwr(nets.keys(), 2):\n",
    "            if p != q:\n",
    "                for r, _ in enumerate(nets[p]['SINK']):\n",
    "                    for s, _ in enumerate(nets[q]['SINK']):\n",
    "                        Q[(f'Net_{net}_Edge_{p}_Rout_{r}', f'Net_{net}_Edge_{q}_Rout_{s}')] = 1\n",
    "    return Q"
   ]
  },
  {
   "cell_type": "code",
   "execution_count": 38,
   "metadata": {},
   "outputs": [],
   "source": [
    "Q = VPR2QUBO(graph.subgraph(graph3.nodes), nets, rr_nodes)"
   ]
  },
  {
   "cell_type": "code",
   "execution_count": 39,
   "metadata": {},
   "outputs": [
    {
     "data": {
      "text/plain": [
       "57254377"
      ]
     },
     "execution_count": 39,
     "metadata": {},
     "output_type": "execute_result"
    }
   ],
   "source": [
    "len(Q)"
   ]
  },
  {
   "cell_type": "code",
   "execution_count": 40,
   "metadata": {},
   "outputs": [],
   "source": [
    "new_Q = {}\n",
    "code = {} # {QUBO_Node : new node}\n",
    "i = 0\n",
    "for item in Q.keys():\n",
    "    if not (item[0] in code.keys()):\n",
    "        i += 1\n",
    "        code[item[0]] = i\n",
    "    if not (item[1] in code.keys()):\n",
    "        i += 1\n",
    "        code[item[1]] = i\n",
    "    new_Q[(code[item[0]], code[item[1]])] = Q[(item[0], item[1])]"
   ]
  },
  {
   "cell_type": "code",
   "execution_count": 41,
   "metadata": {},
   "outputs": [],
   "source": [
    "fpath = Path(name +'.pickle')\n",
    "with open(fpath, 'wb') as f:\n",
    "    pickle.dump(new_Q, f, protocol=pickle.HIGHEST_PROTOCOL)\n",
    "fpath = Path(name +'_code.pickle')\n",
    "with open(fpath, 'wb') as f:\n",
    "    pickle.dump(code, f, protocol=pickle.HIGHEST_PROTOCOL)"
   ]
  },
  {
   "cell_type": "code",
   "execution_count": 42,
   "metadata": {},
   "outputs": [
    {
     "data": {
      "text/plain": [
       "4987548"
      ]
     },
     "execution_count": 42,
     "metadata": {},
     "output_type": "execute_result"
    }
   ],
   "source": [
    "len(code) # this is the number of variable also"
   ]
  },
  {
   "cell_type": "raw",
   "metadata": {},
   "source": [
    "path_lens = []\n",
    "for _, i in nets.items():\n",
    "    s = i['SOURCE']\n",
    "    for t in i['SINK']:\n",
    "        path_lens.append(nx.dijkstra_path_length(graph2, s, t))\n",
    "np.max(path_lens)"
   ]
  }
 ],
 "metadata": {
  "kernelspec": {
   "display_name": "Python 3",
   "language": "python",
   "name": "python3"
  },
  "language_info": {
   "codemirror_mode": {
    "name": "ipython",
    "version": 3
   },
   "file_extension": ".py",
   "mimetype": "text/x-python",
   "name": "python",
   "nbconvert_exporter": "python",
   "pygments_lexer": "ipython3",
   "version": "3.7.4"
  }
 },
 "nbformat": 4,
 "nbformat_minor": 2
}
