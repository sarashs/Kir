{
 "cells": [
  {
   "cell_type": "code",
   "execution_count": null,
   "metadata": {},
   "outputs": [],
   "source": [
    "import networkx as nx\n",
    "import numpy as np\n",
    "import scipy.sparse as scisparse\n",
    "import itertools\n",
    "import matplotlib.pyplot as plt\n",
    "%matplotlib inline"
   ]
  },
  {
   "cell_type": "code",
   "execution_count": null,
   "metadata": {},
   "outputs": [],
   "source": [
    "import sys\n",
    "from pathlib import Path\n",
    "pp = str(Path('.').absolute().parent)\n",
    "if pp not in sys.path:\n",
    "    sys.path.append(pp)"
   ]
  },
  {
   "cell_type": "code",
   "execution_count": null,
   "metadata": {},
   "outputs": [],
   "source": [
    "from qpr.routing import NetList, Route\n",
    "from qpr.graph_utils import get_paths_for_nodes, get_paths_for_nodes_bfs"
   ]
  },
  {
   "cell_type": "code",
   "execution_count": null,
   "metadata": {},
   "outputs": [],
   "source": [
    "A = np.array([[0, 1, 1, 1], [1, 0, 1, 0], [0, 0, 0, 1], [1, 0, 0, 0]])\n",
    "g4 = nx.DiGraph(A)\n",
    "\n",
    "# insert a node in the middle of 2-3 edge but don't change its direction\n",
    "A = np.array([[0, 1, 1, 1, 0], [1, 0, 1, 0, 0], [0, 0, 0, 0, 1], [1, 0, 0, 0, 0], [0, 0, 0, 1, 0]])\n",
    "g4_same = nx.DiGraph(A)\n",
    "\n",
    "# insert a node in the middle of 2-3 and reverse it, i.e. isolate 2 from the rest of the (directed) graph\n",
    "A = np.array([[0, 1, 1, 1, 0], [1, 0, 1, 0, 0], [0, 0, 0, 0, 0], [1, 0, 0, 0, 1], [0, 0, 1, 0, 0]])\n",
    "g4_diff = nx.DiGraph(A)\n",
    "\n",
    "fig, ax = plt.subplots(ncols=3, figsize=(20, 3))\n",
    "for i, j in zip(ax, (g4, g4_same, g4_diff)):\n",
    "    nx.draw_networkx(j, ax=i, pos={3: (0, 0), 0: (10, 0), 1: (20, 0), 2: (10, 5), 4: (5, 2.5)})"
   ]
  },
  {
   "cell_type": "code",
   "execution_count": null,
   "metadata": {},
   "outputs": [],
   "source": [
    "def get_all_paths(g):\n",
    "    # O(|E||V| + |V|^2 x log|V|)\n",
    "    path_lens = nx.algorithms.shortest_paths.all_pairs_dijkstra_path_length(g)\n",
    "\n",
    "    all_paths = set()\n",
    "    for source, target_dict in path_lens:\n",
    "        # print(source)\n",
    "        for target, plen in target_dict.items():\n",
    "            # print(target, plen)\n",
    "            if plen > 0:\n",
    "                all_paths.add((source, target))\n",
    "    return all_paths\n",
    "paths = get_all_paths(g4)\n",
    "paths"
   ]
  },
  {
   "cell_type": "code",
   "execution_count": null,
   "metadata": {},
   "outputs": [],
   "source": [
    "g4_same.nodes(data=False)"
   ]
  },
  {
   "cell_type": "markdown",
   "metadata": {},
   "source": [
    "From [wikipedia](https://en.wikipedia.org/wiki/Shortest_path_problem):"
   ]
  },
  {
   "cell_type": "markdown",
   "metadata": {},
   "source": [
    "<table align='left'>\n",
    "    <tr>\n",
    "        <th>type</th>\n",
    "        <th>name</th>\n",
    "        <th>weights</th>\n",
    "        <th>complexity</th>\n",
    "    </tr>\n",
    "    <tr>\n",
    "        <td>All-pair shortest path on directed weighted graphs</td>\n",
    "        <td>Floyd-Warshall</td>\n",
    "        <td>$R_{+}$</td>\n",
    "        <td>$O(V^3)$</td>\n",
    "    </tr>\n",
    "    <tr>\n",
    "        <td>Unweighted</td>\n",
    "        <td>BFS</td>\n",
    "        <td>$\\{0, 1\\}$</td>\n",
    "        <td>$O(E+V)$</td>\n",
    "    </tr>\n",
    "    <tr>\n",
    "        <td>Directed weighted</td>\n",
    "        <td>Dijkstra's</td>\n",
    "        <td>$R_{+}$</td>\n",
    "        <td>$O(V^2)$ (with list), $O((E+V)log(V))$ (with binary heap, a.k.a Johnson's), $O(E + Vlog(log(V))$ (Thorup 2004)</td>\n",
    "    </tr>\n",
    "    <tr>\n",
    "        <td>Directed weighted</td>\n",
    "        <td>Bellman-Ford</td>\n",
    "        <td>No negative cycles</td>\n",
    "        <td> $O(VE)$</td>\n",
    "    </tr>\n",
    "</table>"
   ]
  },
  {
   "cell_type": "raw",
   "metadata": {},
   "source": [
    "def get_paths_for_nodes(g, node_list):\n",
    "    # g.nodes is a NodeView object. Does it support <= natively?\n",
    "    assert set(node_list).issubset(set(g.nodes))\n",
    "    \n",
    "    all_paths = get_all_paths(g)\n",
    "    subset = []\n",
    "    for i, j in all_paths:\n",
    "        if i in node_list or j in node_list:\n",
    "            subset.append((i, j))\n",
    "    return subset\n",
    "get_paths_for_nodes(g4, [0, 1])"
   ]
  },
  {
   "cell_type": "code",
   "execution_count": null,
   "metadata": {},
   "outputs": [],
   "source": [
    "display(*get_paths_for_nodes(g4, [1, 2]))"
   ]
  },
  {
   "cell_type": "code",
   "execution_count": null,
   "metadata": {},
   "outputs": [],
   "source": [
    "d4, _ = get_paths_for_nodes(g4, [0, 1, 2, 3])\n",
    "d4_same, _ = get_paths_for_nodes(g4_same, [0, 1, 2, 3])\n",
    "d4_diff, _ = get_paths_for_nodes(g4_diff, [0, 1, 2, 3])\n",
    "display(\n",
    "    d4, d4_same, d4_diff, np.all((d4 > 0) == (d4_same > 0)),\n",
    "    np.all((d4 > 0) == (d4_diff > 0))\n",
    ")"
   ]
  },
  {
   "cell_type": "code",
   "execution_count": null,
   "metadata": {},
   "outputs": [],
   "source": [
    "d4_bfs = get_paths_for_nodes_bfs(g4, [0, 1, 2, 3])\n",
    "np.all(d4_bfs == d4)"
   ]
  },
  {
   "cell_type": "code",
   "execution_count": null,
   "metadata": {},
   "outputs": [],
   "source": [
    "subgraph = g4.edge_subgraph([(0, 1), (2, 3)])\n",
    "nx.draw_networkx(subgraph, pos={3: (0, 0), 0: (10, 0), 1: (20, 0), 2: (10, 5), 4: (5, 2.5)})"
   ]
  },
  {
   "cell_type": "code",
   "execution_count": null,
   "metadata": {},
   "outputs": [],
   "source": [
    "edges = [\n",
    "    (6, 7), (7, 8), (6, 3), (7, 4), (8, 5),\n",
    "    (3, 4), (4, 5), (3, 0), (4, 1), (5, 2),\n",
    "    (0, 1), (1, 2),\n",
    "]\n",
    "rev_edges = [(j, i) for i, j in edges]\n",
    "edges = edges + rev_edges\n",
    "edges = edges + [\n",
    "    (0, 'i0'), ('o0', 0), (1, 'i1'), ('o1', 1),\n",
    "    (2, 'i2'), ('o2', 2), (3, 'i3'), ('o3', 3),\n",
    "    (5, 'i5'), ('o5', 5), (6, 'i6'), ('o6', 6),\n",
    "    (7, 'i7'), ('o7', 7), (8, 'i8'), ('o8', 8),\n",
    "]\n",
    "\n",
    "# cartesian frame, i.e. (x, y) pairs, with origin at bottom left\n",
    "pos = {\n",
    "    0: (0, 0), 1: (1, 0), 2: (2, 0), 3: (0, 1),\n",
    "    4: (1, 1), 5: (2, 1), 6: (0, 2), 7: (1, 2),\n",
    "    8: (2, 2), 'i0': (-.4, -.8), 'o0': (-.8, -.4), \n",
    "    'i1': (.8, -1), 'o1': (1.2, -1), \n",
    "    'i2': (2.6, -.4), 'o2': (2.4, -.6),\n",
    "    'i3': (-1, .8), 'o3': (-1, 1.2),\n",
    "    'i5': (3, .8), 'o5': (3, 1.2),\n",
    "    'i6': (-.4, 2.6), 'o6': (-.6, 2.4),\n",
    "    'i7': (.8, 3), 'o7': (1.2, 3),\n",
    "    'i8': (2.4, 2.6), 'o8': (2.6, 2.4),\n",
    "}\n",
    "super_graph = nx.DiGraph(edges)\n",
    "nx.draw_networkx(super_graph, pos=pos)"
   ]
  },
  {
   "cell_type": "code",
   "execution_count": null,
   "metadata": {},
   "outputs": [],
   "source": [
    "route = Route(\n",
    "    super_graph,\n",
    "    NetList([('s1', ['t11', 't12']), ('s2', ['t21', 't22'])]),\n",
    "    set([\n",
    "        ('o0', 0), (0, 1), (1, 'i1'), (0, 3), (3, 'i3'), ('o8', 8), (8, 5),\n",
    "        (5, 2), (2, 'i2'), (8, 7), (7, 'i7')\n",
    "        \n",
    "    ]),\n",
    "    dict(s1='o0', t11='i1', t12='i3', s2='o8', t21='i2', t22='i7'),\n",
    "    pos\n",
    ")\n",
    "_, axes = plt.subplots(nrows=1, ncols=3, figsize=(25, 12))\n",
    "route.draw(axes=axes)\n",
    "route.validate(), route.score()"
   ]
  },
  {
   "cell_type": "markdown",
   "metadata": {},
   "source": [
    "# Test cases"
   ]
  },
  {
   "cell_type": "code",
   "execution_count": null,
   "metadata": {},
   "outputs": [],
   "source": [
    "# (1, 4) is a dangling node\n",
    "route = Route(\n",
    "    super_graph,\n",
    "    NetList([('s1', ['t1']),]),\n",
    "    set([('o0', 0), (0, 1), (1, 2), (2, 'i2'), (1, 4)]),  # edge_list\n",
    "    dict(s1='o0', t1='i2'),  # node_map\n",
    "    pos\n",
    ")\n",
    "# _, axes = plt.subplots(nrows=1, ncols=3, figsize=(25, 12))\n",
    "# route.draw(axes=axes)\n",
    "assert route.validate() is False\n",
    "route.score()"
   ]
  },
  {
   "cell_type": "code",
   "execution_count": null,
   "metadata": {},
   "outputs": [],
   "source": [
    "# there is a loop in the wires\n",
    "route = Route(\n",
    "    super_graph,\n",
    "    NetList([('s1', ['t1']),]),\n",
    "    set([('o0', 0), (0, 3), (3, 4), (3, 6), (6, 7), (4, 7), (7, 'i7')]),  # edge_list\n",
    "    dict(s1='o0', t1='i7'),  # node_map\n",
    "    pos\n",
    ")\n",
    "# _, axes = plt.subplots(nrows=1, ncols=3, figsize=(25, 12))\n",
    "# route.draw(axes=axes)\n",
    "assert route.validate() is False\n",
    "route.score()"
   ]
  },
  {
   "cell_type": "code",
   "execution_count": null,
   "metadata": {},
   "outputs": [],
   "source": [
    "# there is a loop in the wires\n",
    "route = Route(\n",
    "    super_graph,\n",
    "    NetList([('s1', ['t1']),]),\n",
    "    set([('o0', 0), (0, 3), (3, 4), (3, 6), (6, 7), (7, 4), (7, 'i7')]),  # edge_list\n",
    "    dict(s1='o0', t1='i7'),  # node_map\n",
    "    pos\n",
    ")\n",
    "# _, axes = plt.subplots(nrows=1, ncols=3, figsize=(25, 12))\n",
    "# route.draw(axes=axes)\n",
    "assert route.validate() is False\n",
    "route.score()"
   ]
  },
  {
   "cell_type": "code",
   "execution_count": null,
   "metadata": {},
   "outputs": [],
   "source": [
    "super_graph.number_of_edges()"
   ]
  }
 ],
 "metadata": {
  "kernelspec": {
   "display_name": "Python 3",
   "language": "python",
   "name": "python3"
  },
  "language_info": {
   "codemirror_mode": {
    "name": "ipython",
    "version": 3
   },
   "file_extension": ".py",
   "mimetype": "text/x-python",
   "name": "python",
   "nbconvert_exporter": "python",
   "pygments_lexer": "ipython3",
   "version": "3.6.8"
  }
 },
 "nbformat": 4,
 "nbformat_minor": 2
}
