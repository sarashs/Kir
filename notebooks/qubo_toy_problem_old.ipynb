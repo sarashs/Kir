{
 "cells": [
  {
   "cell_type": "markdown",
   "metadata": {},
   "source": [
    "-Constraint to set one node to 1 for the ending node: $(1-\\sum_i y_i + \\sum_{i\\neq j} 2y_iy_j)$\n",
    "\n",
    "-Constraint to set other nodes to 0 or 2: $(\\sum_jy_j)(2-\\sum_jy_j)^2= \\sum_i y_i-2\\sum_{i\\neq j}y_iy_j+6\\sum_{i\\neq j,i\\neq k,j\\neq j}y_iy_jy_k$. Adding ancilla variables to make it QUBO:\n",
    "$\\sum_i y_i-2\\sum_{i\\neq j}y_iy_j+6\\sum_{i\\neq j,i\\neq k,j\\neq k}[w_{i,j}y_k]+6\\sum_{i\\neq j,i\\neq k,j\\neq k}[y_iy_j-2w_{i,j}(y_i+y_j)+3w_{i,j}]$\n",
    "\n",
    "-Constraint to set one node to $n$ for the starting node: $(\\sum_iy_i-n)^2=n^2-(2n-1)\\sum_i y_i+\\sum_{i\\neq j} 2y_iy_j$\n",
    "\n",
    "-Minimum distance objective function:  $w\\sum_{i \\notin start, i \\notin start} y_i$ if $w$ is not there 0 would be a viable solution too. While the constraints only add a penalty or reward of 1/-1, the objective function's penalty grows linearly with the routs length. Therefore, it is imperetive that we nulify the effect of this growth with a small weight. A weight too big wont do shit and a weight too small will make the adiabatic gap very tiny and inceases the error rate. "
   ]
  },
  {
   "cell_type": "code",
   "execution_count": null,
   "metadata": {},
   "outputs": [],
   "source": [
    "from dwave.system.samplers import DWaveSampler\n",
    "from dwave.system.composites import FixedEmbeddingComposite\n",
    "import dwave_networkx as dnx\n",
    "import hybrid\n",
    "import dimod\n",
    "import numpy as np\n",
    "import matplotlib.pyplot as plt\n",
    "\n",
    "%matplotlib inline"
   ]
  },
  {
   "cell_type": "code",
   "execution_count": null,
   "metadata": {},
   "outputs": [],
   "source": [
    "import sys\n",
    "from pathlib import Path\n",
    "pp = str(Path('.').absolute().parent)\n",
    "if pp not in sys.path:\n",
    "    sys.path.append(pp)"
   ]
  },
  {
   "cell_type": "code",
   "execution_count": null,
   "metadata": {},
   "outputs": [],
   "source": [
    "#import the necessary shit\n",
    "from refactor.essentials import (\n",
    "    RectGridGraph, create_qubo, SA, optimize_qannealer,\n",
    "    is_this_an_answer,\n",
    ")\n",
    "from qpr.quantum_utils import find_embedding_minorminer"
   ]
  },
  {
   "cell_type": "code",
   "execution_count": null,
   "metadata": {},
   "outputs": [],
   "source": [
    "#prepare the netlist\n",
    "\n",
    "net_start=[(0,0)]\n",
    "net_end=[(0,2)]\n",
    "\n",
    "G = RectGridGraph(3, 3)"
   ]
  },
  {
   "cell_type": "code",
   "execution_count": null,
   "metadata": {},
   "outputs": [],
   "source": [
    "%%time\n",
    "params = {'weight_objective': 0.3594062134771152,\n",
    " 'weight_end': 1.1453614963677057,\n",
    " 'weight_start': 1.6267212231734953,\n",
    " 'weight_others': 0.4445755049371818,\n",
    " 'weight_and': 6.323717667375186}\n",
    "Q=create_qubo(G, net_start, net_end, params)\n",
    "dwave_sampler = DWaveSampler(solver={'lower_noise': True, 'qpu': True})\n",
    "A = dwave_sampler.edgelist\n",
    "embedding, chain_len = find_embedding_minorminer(Q, A, num_tries=10)\n",
    "## the shortest chain_len I've seen with num_tries=1000 is 5\n",
    "## (SP: takes 2.5 mins on my machine, SAS: 1:08 on mine)\n",
    "display(chain_len)"
   ]
  },
  {
   "cell_type": "code",
   "execution_count": null,
   "metadata": {},
   "outputs": [],
   "source": [
    "connectivity_structure = dnx.chimera_graph(16,16)\n",
    "fig=plt.figure(figsize=(25, 25))\n",
    "dnx.draw_chimera_embedding(connectivity_structure, embedding)"
   ]
  },
  {
   "cell_type": "markdown",
   "metadata": {},
   "source": [
    "# QPU"
   ]
  },
  {
   "cell_type": "code",
   "execution_count": null,
   "metadata": {
    "scrolled": true
   },
   "outputs": [],
   "source": [
    "fixed_sampler = FixedEmbeddingComposite(\n",
    "            DWaveSampler(solver={'lower_noise': True, 'qpu': True}), embedding\n",
    "            )\n",
    "q_response = optimize_qannealer(fixed_sampler, Q, params={'chain_strength': 20, 'annealing_time': 99, 'num_reads': 10000})\n",
    "display(q_response.first)\n",
    "best_q_answer = q_response.first.sample"
   ]
  },
  {
   "cell_type": "code",
   "execution_count": null,
   "metadata": {
    "scrolled": true
   },
   "outputs": [],
   "source": [
    "G.draw()\n",
    "\n",
    "edge_set = G.qubo_answer2node_pairs(q_response.samples()[0])\n",
    "G.highlight_edge_list(edge_set)"
   ]
  },
  {
   "cell_type": "code",
   "execution_count": null,
   "metadata": {},
   "outputs": [],
   "source": [
    "is_this_an_answer(q_response.samples()[0], G, net_start, net_end)"
   ]
  },
  {
   "cell_type": "code",
   "execution_count": null,
   "metadata": {},
   "outputs": [],
   "source": [
    "def make_ax_grid(n, ax_h=4, ax_w=6, ncols=4):\n",
    "    nrows = int(np.ceil(n / ncols))\n",
    "    fig_h = nrows * ax_h\n",
    "    fig_w = ncols * ax_w\n",
    "    return plt.subplots(nrows=nrows, ncols=ncols, figsize=(fig_w, fig_h))"
   ]
  },
  {
   "cell_type": "markdown",
   "metadata": {},
   "source": [
    "# Exact solver"
   ]
  },
  {
   "cell_type": "code",
   "execution_count": null,
   "metadata": {},
   "outputs": [],
   "source": [
    "%%time\n",
    "exact_response = dimod.ExactSolver().sample_qubo(Q)\n",
    "display(exact_response.record)"
   ]
  },
  {
   "cell_type": "code",
   "execution_count": null,
   "metadata": {},
   "outputs": [],
   "source": [
    "# .data() sorts by energy by defaults but returns an iterator (not a SampleSet)\n",
    "# the iterator yields a named tuple\n",
    "# .samples(n) sort by energy, take at most n samples, return a SampleArray\n",
    "# which is a view, mapping the var names to the values (i.e returns dicts), It is\n",
    "# indexable i.e. .samples()[10] works\n",
    "# .record returns record array of Sample objects which is basically a \n",
    "# numpy-scliceable list of named tuples (samples). Also .record.energy\n",
    "# returns a numpy array of energies, .record.samples returns a 2d numpy\n",
    "# array of qubo answers etc.\n",
    "# Iterating over the SampleSet, calls .samples() internally, i.e. it gets sorted\n",
    "# .first calls data() internally so it does the sorting anyway!\n",
    "\n",
    "# This function returns all the min energy solutions as a list of {var name: val} dicts\n",
    "def get_all_min_energy(sample_set):\n",
    "    min_energy = np.min(sample_set.record.energy)\n",
    "    # use .record since it is slicing friendly, this returns a 2d-array-like recarray\n",
    "    records = sample_set.record[sample_set.record.energy == min_energy]\n",
    "    # make dicts out of each answer using the original var names (i.e. sample_set.variables)\n",
    "    return [dict(zip(sample_set.variables, i.sample)) for i in records], min_energy"
   ]
  },
  {
   "cell_type": "code",
   "execution_count": null,
   "metadata": {},
   "outputs": [],
   "source": [
    "def plot_all_exact_solutions(min_energy_sols):\n",
    "    fig, axes = make_ax_grid(len(min_energy_sols))\n",
    "    display(len(min_energy_sols))\n",
    "    \n",
    "    for ax, answer_dict in zip(axes.flat, min_energy_sols):\n",
    "        G.draw(edge_labs=False, ax=ax)  # edge_labs=False)\n",
    "    \n",
    "        edge_set = G.qubo_answer2node_pairs(answer_dict)\n",
    "        G.highlight_edge_list(edge_set, ax=ax)\n",
    "    fig.tight_layout()"
   ]
  },
  {
   "cell_type": "code",
   "execution_count": null,
   "metadata": {},
   "outputs": [],
   "source": [
    "min_energy_sols, _ = get_all_min_energy(exact_response)\n",
    "plot_all_exact_solutions(min_energy_sols)"
   ]
  },
  {
   "cell_type": "code",
   "execution_count": null,
   "metadata": {},
   "outputs": [],
   "source": [
    "def check_against_exact(ans,exact_min_energy_sols):\n",
    "    #ans is the answer from QPU or hybrid solver. \n",
    "    #exact_min_energy_sols is the set of all possible solutions from the exact solver\n",
    "    return (ans in exact_min_energy_sols)"
   ]
  },
  {
   "cell_type": "code",
   "execution_count": null,
   "metadata": {},
   "outputs": [],
   "source": [
    "print(check_against_exact(q_response.samples()[0],min_energy_sols))"
   ]
  },
  {
   "cell_type": "markdown",
   "metadata": {},
   "source": [
    "# hybrid solution"
   ]
  },
  {
   "cell_type": "code",
   "execution_count": null,
   "metadata": {},
   "outputs": [],
   "source": [
    "# Construct a problem\n",
    "offset=0.0\n",
    "#vartype = dimod.BINARY\n",
    "bqm = dimod.BinaryQuadraticModel.from_qubo(Q, offset)\n",
    "\n",
    "# Define the workflow\n",
    "iteration = hybrid.RacingBranches(\n",
    "    hybrid.InterruptableTabuSampler(),\n",
    "    hybrid.EnergyImpactDecomposer(size=2)\n",
    "    | hybrid.QPUSubproblemAutoEmbeddingSampler()\n",
    "    | hybrid.SplatComposer()\n",
    ") | hybrid.ArgMin()\n",
    "workflow = hybrid.LoopUntilNoImprovement(iteration, convergence=3)\n",
    "\n",
    "# Solve the problem\n",
    "init_state = hybrid.State.from_problem(bqm)\n",
    "final_state = workflow.run(init_state).result()\n",
    "\n",
    "# Print results\n",
    "print(\"Solution: sample={.samples.first}\".format(final_state))"
   ]
  },
  {
   "cell_type": "code",
   "execution_count": null,
   "metadata": {},
   "outputs": [],
   "source": [
    "G.draw(edge_labs=False)  # edge_labs=False)\n",
    "\n",
    "edge_set = G.qubo_answer2node_pairs(final_state.samples.first[0])\n",
    "G.highlight_edge_list(edge_set)\n"
   ]
  },
  {
   "cell_type": "markdown",
   "metadata": {},
   "source": [
    "# simulated  annealing\n",
    "\n",
    "In order to optimize the parameters of QUBO (and later QPU) we employ s simulated annealing algorithm. "
   ]
  },
  {
   "cell_type": "code",
   "execution_count": null,
   "metadata": {},
   "outputs": [],
   "source": [
    "a=SA(4, params={'weight_objective': [1, 0, 2, 0, 0.1], 'weight_end': [1, 0, 2, 0, 0.1],\n",
    "                                           'weight_start': [1, 0, 2, 0, 0.1] ,'weight_others': [1, 0, 2, 0, 0.1],\n",
    "                                           'weight_and': [6, 0, 30, 0, 0.1],\n",
    "                                           'chain_strength': [7, 3, 800, 0, 0.1], 'annealing_time': [500, 99, 1000, 1, 10]\n",
    "                                          },\n",
    "                 T=1, T_min=0.01, alpha=0.8, max_iter=5)"
   ]
  },
  {
   "cell_type": "code",
   "execution_count": null,
   "metadata": {},
   "outputs": [],
   "source": [
    "a.anneal()"
   ]
  },
  {
   "cell_type": "code",
   "execution_count": null,
   "metadata": {},
   "outputs": [],
   "source": [
    "a.costs"
   ]
  },
  {
   "cell_type": "code",
   "execution_count": null,
   "metadata": {},
   "outputs": [],
   "source": [
    "A[-100:-1]"
   ]
  }
 ],
 "metadata": {
  "kernelspec": {
   "display_name": "Python 3",
   "language": "python",
   "name": "python3"
  },
  "language_info": {
   "codemirror_mode": {
    "name": "ipython",
    "version": 3
   },
   "file_extension": ".py",
   "mimetype": "text/x-python",
   "name": "python",
   "nbconvert_exporter": "python",
   "pygments_lexer": "ipython3",
   "version": "3.7.4"
  }
 },
 "nbformat": 4,
 "nbformat_minor": 2
}
