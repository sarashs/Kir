{
 "cells": [
  {
   "cell_type": "markdown",
   "metadata": {},
   "source": [
    "# QUBO for shortest path\n",
    "\n",
    "### For each net $p \\in \\{nets\\}$ and for each rout $r \\in \\{p\\}$ (to include forks):\n",
    "\n",
    "-Constraint to set one node to 1 for the ending node: $(1-\\sum_i y_{p,r,i} + \\sum_{i\\neq j} 2y_{p,r,i}y_{p,r,j})$\n",
    "\n",
    "-Constraint to set other nodes to 0 or 2: $(\\sum_{j}y_{p,r,j})(2-\\sum_{j}y_{p,r,j})^2= \\sum_{i} y_{p,r,i}-2\\sum_{i\\neq j}y_{p,r,i}y_{p,r,j}+6\\sum_{i\\neq j,i\\neq k,j\\neq j}y_{p,r,i}y_{p,r,j}y_{p,r,k}$. Adding ancilla variables to make it QUBO:\n",
    "$\\sum_i y_{p,r,i}-2\\sum_{i\\neq j}y_{p,r,i}y_{p,r,j}+6\\sum_{i\\neq j,i\\neq k,j\\neq k}[w_{p,r,i,j}y_{p,r,k}]+6\\sum_{i\\neq j,i\\neq k,j\\neq k}[y_{p,r,i}y_{p,r,j}-2w_{p,r,i,j}(y_{p,r,i}+y_{p,r,j})+3w_{p,r,i,j}]$\n",
    "\n",
    "-Constraint to set one node to $n$ for the starting node: $(\\sum_iy_{p,r,i}-n)^2=n^2-(2n-1)\\sum_i y_{p,r,i}+\\sum_{i\\neq j} 2y_{p,r,i}y_{p,r,j}$\n",
    "\n",
    "### Constraint on edges for all of the nets:\n",
    "\n",
    "$\\sum_{i \\in \\{edges\\}}\\sum_{p, q \\in \\{nets\\} p \\neq q} \\sum_{r \\in p, s \\in q} y_{p,r,i}y_{q,s,i}$\n",
    "\n",
    "-This will allow routs (r or s) from the same net/fork (p or q) to overlap.\n",
    "\n",
    "# <span style=\"color:red\"> Very important:<span>\n",
    "\n",
    "-Minimum distance objective function:  $w\\sum_i y_i$ \n",
    "\n",
    "if $w < 1$ is not there, solutions with the path of 0 length would be a viable solutions too. This is because the constraints only add a penalty or reward of 1/-1 and the objective function's penalty grows linearly with the routs length. Therefore, it is imperetive that we nulify the effect of this growth with a small weight. A weight too big wont do shit and a weight too small will make the adiabatic gap very tiny and inceases the error rate. \n",
    "\n",
    "There can be two solutions for this problem:\n",
    "\n",
    "(A) Assign a small constant weight to it. This can be tricky as the size of the problem changes.\n",
    "\n",
    "(B) In order to bring the effect of objective function to the level of other items one can use $w < 1/d$ where $d$ is the distance of the nodes in the distance matrix. "
   ]
  },
  {
   "cell_type": "code",
   "execution_count": null,
   "metadata": {},
   "outputs": [],
   "source": [
    "from dwave.system.samplers import DWaveSampler\n",
    "from dwave.system.composites import FixedEmbeddingComposite\n",
    "import dwave_networkx as dnx\n",
    "import hybrid\n",
    "import dimod\n",
    "import numpy as np\n",
    "import matplotlib.pyplot as plt\n",
    "\n",
    "%matplotlib inline"
   ]
  },
  {
   "cell_type": "code",
   "execution_count": null,
   "metadata": {},
   "outputs": [],
   "source": [
    "import sys\n",
    "from pathlib import Path\n",
    "pp = str(Path('.').absolute().parent)\n",
    "if pp not in sys.path:\n",
    "    sys.path.append(pp)"
   ]
  },
  {
   "cell_type": "code",
   "execution_count": null,
   "metadata": {},
   "outputs": [],
   "source": [
    "#import the necessary shit\n",
    "from refactor.essentials import (\n",
    "    RectGridGraph, SA, optimize_qannealer, # create_qubo,\n",
    "    is_this_an_answer,\n",
    ")\n",
    "from qpr.quantum_utils import find_embedding_minorminer, get_all_min_energy\n",
    "from qpr.notebook_utils import make_ax_grid"
   ]
  },
  {
   "cell_type": "code",
   "execution_count": null,
   "metadata": {},
   "outputs": [],
   "source": [
    "#New QUBO for all of the nets\n",
    "from itertools import combinations_with_replacement as cwr\n",
    "\n",
    "# We now define netlists as a dictionary consisting of a set of keys (netstart) and values (list of net end)\n",
    "def create_qubo(G, nets, params={'weight_objective': 1, 'weight_end': 1, 'weight_start': 1, 'weight_others': 1,'weight_and': 6,'weight_net_distinction': 1}):\n",
    "    Q = {}\n",
    "    for num_net, start_net in enumerate(nets.keys()):\n",
    "        \n",
    "        for num_rout, end_net in enumerate(nets[start_net]):\n",
    "            \n",
    "            n = len(nets[start_net])\n",
    "            # these are 'y0', 'y1', etc\n",
    "            for var1, var2 in cwr(G.np2qv.values(), 2):\n",
    "                Q[(f'{var1}n{num_net}r{num_rout}', f'{var2}n{num_net}r{num_rout}')]=0\n",
    "            \n",
    "            Starting_node=[]\n",
    "            end_nodes={}\n",
    "            other_nodes={}\n",
    "            for item_1 in nets[start_net]:\n",
    "                end_nodes[item_1]=[]\n",
    "            for item_1 in G.nodes:\n",
    "                if item_1 not in nets[start_net] and item_1 != start_net:\n",
    "                    other_nodes[item_1]=[]\n",
    "            \n",
    "            # iterate over numerical edge labels\n",
    "            for edge_pair, num_lab in G.np2l.items():\n",
    "                # objective\n",
    "                w1=params['weight_objective']\n",
    "                Q[(f'y{num_lab}n{num_net}r{num_rout}',f'y{num_lab}n{num_net}r{num_rout}')]=1*w1\n",
    "                # According to Arash, VPR defines nets as having one start and multiple ends\n",
    "                #Starting node\n",
    "                if edge_pair[0] == start_net or edge_pair[1] == start_net:\n",
    "                    Starting_node.append(num_lab)\n",
    "                #end node\n",
    "                if edge_pair[0] in nets[start_net]:\n",
    "                    end_nodes[edge_pair[0]].append(num_lab)\n",
    "                if edge_pair[1] in nets[start_net]:\n",
    "                    end_nodes[edge_pair[1]].append(num_lab)\n",
    "                #other nodes\n",
    "                if edge_pair[0] in other_nodes:\n",
    "                    other_nodes[edge_pair[0]].append(num_lab)\n",
    "                if edge_pair[1] in other_nodes:\n",
    "                    other_nodes[edge_pair[1]].append(num_lab)   \n",
    "            \n",
    "            #constraint on end nodes\n",
    "            w2=params['weight_end']\n",
    "            # each item is a list of (numerical) edge labels ending in the node\n",
    "            for node, num_lab_list in end_nodes.items():\n",
    "                # for each pair of edges\n",
    "                for i,j in cwr(num_lab_list,2):\n",
    "                    if i==j:\n",
    "                        #######Removing end node edges from the objective\n",
    "                        #Q[(f'y{i}',f'y{j}')]+=-1*w1 \n",
    "                        ##############################\n",
    "                        Q[(f'y{i}n{num_net}r{num_rout}',f'y{j}n{num_net}r{num_rout}')]+=-1*w2\n",
    "                    else:\n",
    "                        Q[(f'y{i}n{num_net}r{num_rout}',f'y{j}n{num_net}r{num_rout}')]+=2*w2\n",
    "            \n",
    "            #constraint on other nodes\n",
    "            w3=params['weight_others']\n",
    "            # yiyj and weightm\n",
    "            w_and=params['weight_and']\n",
    "            \n",
    "            # iterate over numerical edge labels\n",
    "        \n",
    "            for node, num_lab_list in other_nodes.items():\n",
    "                for i,j in cwr(num_lab_list,2):\n",
    "                    if i==j:\n",
    "                        Q[(f'y{i}n{num_net}r{num_rout}',f'y{j}n{num_net}r{num_rout}')]+=w3\n",
    "                    else:\n",
    "                        Q[(f'y{i}n{num_net}r{num_rout}',f'y{j}n{num_net}r{num_rout}')]+=-2*w3 #2\n",
    "                for i,j,k in cwr(num_lab_list,3):\n",
    "                    if i !=j and j!=k and i !=k:\n",
    "                        if (f'w{i}{j}n{num_net}r{num_rout}',f'y{k}n{num_net}r{num_rout}') not in Q:\n",
    "                            Q[(f'w{i}{j}n{num_net}r{num_rout}',f'y{k}n{num_net}r{num_rout}')]=0\n",
    "                        Q[(f'w{i}{j}n{num_net}r{num_rout}',f'y{k}n{num_net}r{num_rout}')]+=6*w3 #2\n",
    "                        Q[(f'y{i}n{num_net}r{num_rout}',f'y{j}n{num_net}r{num_rout}')]+=6*w_and #2\n",
    "                        if (f'w{i}{j}n{num_net}r{num_rout}',f'y{i}n{num_net}r{num_rout}') not in Q:\n",
    "                            Q[(f'w{i}{j}n{num_net}r{num_rout}',f'y{i}n{num_net}r{num_rout}')]=0\n",
    "                        Q[(f'w{i}{j}n{num_net}r{num_rout}',f'y{i}n{num_net}r{num_rout}')]+=-12*w_and\n",
    "                        if (f'w{i}{j}n{num_net}r{num_rout}',f'y{j}n{num_net}r{num_rout}') not in Q:\n",
    "                            Q[(f'w{i}{j}n{num_net}r{num_rout}',f'y{j}n{num_net}r{num_rout}')]=0\n",
    "                        Q[(f'w{i}{j}n{num_net}r{num_rout}',f'y{j}n{num_net}r{num_rout}')]+=-12*w_and\n",
    "                        if (f'w{i}{j}n{num_net}r{num_rout}',f'w{i}{j}n{num_net}r{num_rout}') not in Q:\n",
    "                            Q[(f'w{i}{j}n{num_net}r{num_rout}',f'w{i}{j}n{num_net}r{num_rout}')]=0\n",
    "                        Q[(f'w{i}{j}n{num_net}r{num_rout}',f'w{i}{j}n{num_net}r{num_rout}')]+=18*w_and\n",
    "        \n",
    "                        \n",
    "            #constraint on the starting node\n",
    "            w4=params['weight_start']\n",
    "            # Starting_node is a list of numerical labels and not a dict\n",
    "            for i,j in cwr(Starting_node,2):\n",
    "                if i==j:\n",
    "                    #######Removing starting node edges from the objective\n",
    "                    #Q[(f'y{i}',f'y{j}')]+=-1*w1 \n",
    "                    ##############################\n",
    "                    Q[(f'y{i}n{num_net}r{num_rout}',f'y{j}n{num_net}r{num_rout}')]+=-(2*n-1)*w4\n",
    "                else:\n",
    "                    Q[(f'y{i}n{num_net}r{num_rout}',f'y{j}n{num_net}r{num_rout}')]+=2*w4\n",
    "    #Constrains on nets and routs\n",
    "    w5=params['weight_net_distinction']\n",
    "    \n",
    "    #for num_net1, num_net2 in cwr(range(len(nets)),2):\n",
    "\n",
    "    for num_net1, start_net1 in enumerate(nets.keys()):\n",
    "        for num_net2, start_net2 in enumerate(nets.keys()):\n",
    "            for num_rout1, _ in enumerate(nets[start_net1]):\n",
    "                for num_rout2, _ in enumerate(nets[start_net2]):\n",
    "                    for var in G.np2qv.values():\n",
    "                        if num_net1 != num_net2:\n",
    "                            Q[(f'{var}n{num_net1}r{num_rout1}', f'{var}n{num_net2}r{num_rout2}')] = w5\n",
    "    return Q"
   ]
  },
  {
   "cell_type": "code",
   "execution_count": null,
   "metadata": {},
   "outputs": [],
   "source": [
    "#prepare the netlist\n",
    "\n",
    "nets={(0,0):[(2,1)], (0,1):[(1,1), (2,2)]}\n",
    "\n",
    "\n",
    "G = RectGridGraph(3, 3)\n"
   ]
  },
  {
   "cell_type": "code",
   "execution_count": null,
   "metadata": {},
   "outputs": [],
   "source": [
    "import pickle\n",
    "params = {'weight_objective': 0.15,\n",
    " 'weight_end': 0.99,\n",
    " 'weight_start': 0.82,\n",
    " 'weight_others': 0.59,\n",
    " 'weight_and': 1.7,\n",
    " 'weight_net_distinction': 1}\n",
    "Q=create_qubo(G, nets, params)\n",
    "#with open('Q10by10.pickle', 'wb') as f:\n",
    "#    pickle.dump(Q, f, protocol=pickle.HIGHEST_PROTOCOL)\n",
    "Q"
   ]
  },
  {
   "cell_type": "code",
   "execution_count": null,
   "metadata": {},
   "outputs": [],
   "source": [
    "from dwave_qbsolv import QBSolv\n",
    "response = QBSolv().sample_qubo(Q)\n",
    "print(\"energies=\" + str(list(response.data_vectors['energy'])))"
   ]
  },
  {
   "cell_type": "code",
   "execution_count": null,
   "metadata": {},
   "outputs": [],
   "source": [
    "%%time\n",
    "dwave_sampler = DWaveSampler(solver={'lower_noise': True, 'qpu': True})\n",
    "A = dwave_sampler.edgelist\n",
    "embedding, chain_len = find_embedding_minorminer(Q, A, num_tries=100)\n",
    "## the shortest chain_len I've seen with num_tries=1000 is 5\n",
    "## (SP: takes 2.5 mins on my machine, SAS: 1:08 on mine)\n",
    "display(chain_len)"
   ]
  },
  {
   "cell_type": "code",
   "execution_count": null,
   "metadata": {
    "scrolled": true
   },
   "outputs": [],
   "source": [
    "connectivity_structure = dnx.chimera_graph(16,16)\n",
    "fig=plt.figure(figsize=(25, 25))\n",
    "dnx.draw_chimera_embedding(connectivity_structure, embedding)"
   ]
  },
  {
   "cell_type": "markdown",
   "metadata": {},
   "source": [
    "# QPU"
   ]
  },
  {
   "cell_type": "code",
   "execution_count": null,
   "metadata": {
    "scrolled": true
   },
   "outputs": [],
   "source": [
    "fixed_sampler = FixedEmbeddingComposite(\n",
    "            DWaveSampler(solver={'lower_noise': True, 'qpu': True}), embedding\n",
    "            )\n",
    "q_response = optimize_qannealer(fixed_sampler, Q, params={'chain_strength': 15, 'annealing_time': 100, 'num_reads': 9900, 'anneal_schedule': None})\n",
    "display(q_response.first)\n",
    "best_q_answer = q_response.first.sample"
   ]
  },
  {
   "cell_type": "code",
   "execution_count": null,
   "metadata": {
    "scrolled": true
   },
   "outputs": [],
   "source": [
    "G.draw()\n",
    "\n",
    "edge_set = G.qubo_answer2node_pairs(q_response.samples()[0])\n",
    "G.highlight_edge_list(edge_set)"
   ]
  },
  {
   "cell_type": "code",
   "execution_count": null,
   "metadata": {},
   "outputs": [],
   "source": [
    "is_this_an_answer(q_response.samples()[0], G, net_start, net_end)"
   ]
  },
  {
   "cell_type": "code",
   "execution_count": null,
   "metadata": {},
   "outputs": [],
   "source": [
    "def make_ax_grid(n, ax_h=4, ax_w=6, ncols=4):\n",
    "    nrows = int(np.ceil(n / ncols))\n",
    "    fig_h = nrows * ax_h\n",
    "    fig_w = ncols * ax_w\n",
    "    return plt.subplots(nrows=nrows, ncols=ncols, figsize=(fig_w, fig_h))"
   ]
  },
  {
   "cell_type": "markdown",
   "metadata": {},
   "source": [
    "# Exact solver"
   ]
  },
  {
   "cell_type": "code",
   "execution_count": null,
   "metadata": {},
   "outputs": [],
   "source": [
    "%%time\n",
    "exact_response = dimod.ExactSolver().sample_qubo(Q)\n",
    "display(exact_response.record)"
   ]
  },
  {
   "cell_type": "code",
   "execution_count": null,
   "metadata": {},
   "outputs": [],
   "source": [
    "# .data() sorts by energy by defaults but returns an iterator (not a SampleSet)\n",
    "# the iterator yields a named tuple\n",
    "# .samples(n) sort by energy, take at most n samples, return a SampleArray\n",
    "# which is a view, mapping the var names to the values (i.e returns dicts), It is\n",
    "# indexable i.e. .samples()[10] works\n",
    "# .record returns record array of Sample objects which is basically a \n",
    "# numpy-scliceable list of named tuples (samples). Also .record.energy\n",
    "# returns a numpy array of energies, .record.samples returns a 2d numpy\n",
    "# array of qubo answers etc.\n",
    "# Iterating over the SampleSet, calls .samples() internally, i.e. it gets sorted\n",
    "# .first calls data() internally so it does the sorting anyway!\n",
    "\n",
    "# This function returns all the min energy solutions as a list of {var name: val} dicts\n",
    "def get_all_min_energy(sample_set):\n",
    "    min_energy = np.min(sample_set.record.energy)\n",
    "    # use .record since it is slicing friendly, this returns a 2d-array-like recarray\n",
    "    records = sample_set.record[sample_set.record.energy == min_energy]\n",
    "    # make dicts out of each answer using the original var names (i.e. sample_set.variables)\n",
    "    return [dict(zip(sample_set.variables, i.sample)) for i in records], min_energy"
   ]
  },
  {
   "cell_type": "code",
   "execution_count": null,
   "metadata": {},
   "outputs": [],
   "source": [
    "def plot_all_exact_solutions(min_energy_sols):\n",
    "    fig, axes = make_ax_grid(len(min_energy_sols))\n",
    "    display(len(min_energy_sols))\n",
    "    \n",
    "    for ax, answer_dict in zip(axes.flat, min_energy_sols):\n",
    "        G.draw(edge_labs=False, ax=ax)  # edge_labs=False)\n",
    "    \n",
    "        edge_set = G.qubo_answer2node_pairs(answer_dict)\n",
    "        G.highlight_edge_list(edge_set, ax=ax)\n",
    "    fig.tight_layout()"
   ]
  },
  {
   "cell_type": "code",
   "execution_count": null,
   "metadata": {},
   "outputs": [],
   "source": [
    "min_energy_sols, _ = get_all_min_energy(exact_response)\n",
    "plot_all_exact_solutions(min_energy_sols)"
   ]
  },
  {
   "cell_type": "code",
   "execution_count": null,
   "metadata": {},
   "outputs": [],
   "source": [
    "def check_against_exact(ans,exact_min_energy_sols):\n",
    "    #ans is the answer from QPU or hybrid solver. \n",
    "    #exact_min_energy_sols is the set of all possible solutions from the exact solver\n",
    "    return (ans in exact_min_energy_sols)"
   ]
  },
  {
   "cell_type": "code",
   "execution_count": null,
   "metadata": {},
   "outputs": [],
   "source": [
    "print(check_against_exact(q_response.samples()[0],min_energy_sols))"
   ]
  },
  {
   "cell_type": "markdown",
   "metadata": {},
   "source": [
    "# hybrid solution"
   ]
  },
  {
   "cell_type": "code",
   "execution_count": null,
   "metadata": {},
   "outputs": [],
   "source": [
    "# Construct a problem\n",
    "offset=0.0\n",
    "#vartype = dimod.BINARY\n",
    "bqm = dimod.BinaryQuadraticModel.from_qubo(Q, offset)\n",
    "\n",
    "# Define the workflow\n",
    "iteration = hybrid.RacingBranches(\n",
    "    hybrid.InterruptableTabuSampler(),\n",
    "    hybrid.EnergyImpactDecomposer(size=2)\n",
    "    | hybrid.QPUSubproblemAutoEmbeddingSampler()\n",
    "    | hybrid.SplatComposer()\n",
    ") | hybrid.ArgMin()\n",
    "workflow = hybrid.LoopUntilNoImprovement(iteration, convergence=3)\n",
    "\n",
    "# Solve the problem\n",
    "init_state = hybrid.State.from_problem(bqm)\n",
    "final_state = workflow.run(init_state).result()\n",
    "\n",
    "# Print results\n",
    "print(\"Solution: sample={.samples.first}\".format(final_state))"
   ]
  },
  {
   "cell_type": "code",
   "execution_count": null,
   "metadata": {},
   "outputs": [],
   "source": [
    "G.draw(edge_labs=False)  # edge_labs=False)\n",
    "\n",
    "edge_set = G.qubo_answer2node_pairs(final_state.samples.first[0])\n",
    "G.highlight_edge_list(edge_set)\n"
   ]
  },
  {
   "cell_type": "markdown",
   "metadata": {},
   "source": [
    "# simulated  annealing\n",
    "\n",
    "In order to optimize the parameters of QUBO (and later QPU) we employ s simulated annealing algorithm. "
   ]
  },
  {
   "cell_type": "markdown",
   "metadata": {},
   "source": [
    "### Best Answer so far:\n",
    "-It seems so far as the chain strength is the most contrinuting factor!"
   ]
  },
  {
   "cell_type": "raw",
   "metadata": {},
   "source": [
    "{'weight_objective': 0.5796869330189282,\n",
    "  'weight_end': 0.9960217672489513,\n",
    "  'weight_start': 0.8261191158008427,\n",
    "  'weight_others': 0.5891906716789499,\n",
    "  'weight_and': 1.7075300813152492,\n",
    "  'chain_strength': 7.07642463545623,\n",
    "  'annealing_time': 810}"
   ]
  },
  {
   "cell_type": "code",
   "execution_count": null,
   "metadata": {},
   "outputs": [],
   "source": [
    "a=SA(2, params={'weight_objective': [0.58, 0.58, 0.58, 0, 0.1], 'weight_end': [1.05, 0, 2, 0, 0.1],\n",
    "                                           'weight_start': [1.12, 0, 2, 0, 0.1] ,'weight_others': [0.55, 0, 2, 0, 0.1],\n",
    "                                           'weight_and': [1.949, 0, 2, 0, 0.1],\n",
    "                                           'chain_strength': [15, 15, 15, 0, 0.5], 'annealing_time': None, \n",
    "                                           'anneal_schedule':[[[0,0], [10,0.4], [90, 0.8], [100, 1]],[[[0,0],[0,0]], [[5, 30], [0.2,0.6]], [[10, 95], [0.6,0.9]], [[100, 100], [1, 1]]],[5, 0.05]] \n",
    "                                          },\n",
    "                 T=1, T_min=0.4, alpha=0.8, max_iter=50)"
   ]
  },
  {
   "cell_type": "code",
   "execution_count": null,
   "metadata": {},
   "outputs": [],
   "source": [
    "a.param_generator()\n",
    "a.sol_"
   ]
  },
  {
   "cell_type": "code",
   "execution_count": null,
   "metadata": {},
   "outputs": [],
   "source": [
    "a.costs"
   ]
  },
  {
   "cell_type": "code",
   "execution_count": null,
   "metadata": {
    "scrolled": true
   },
   "outputs": [],
   "source": [
    "a.sols"
   ]
  },
  {
   "cell_type": "markdown",
   "metadata": {},
   "source": [
    "We cool down slower to search the space around the current answer better"
   ]
  },
  {
   "cell_type": "code",
   "execution_count": null,
   "metadata": {},
   "outputs": [],
   "source": [
    "#a.T_min = 0.01\n",
    "#a.alpha = 0.9\n",
    "a.anneal()"
   ]
  },
  {
   "cell_type": "code",
   "execution_count": null,
   "metadata": {},
   "outputs": [],
   "source": [
    "a.costs"
   ]
  },
  {
   "cell_type": "code",
   "execution_count": null,
   "metadata": {},
   "outputs": [],
   "source": [
    "a.sols"
   ]
  },
  {
   "cell_type": "code",
   "execution_count": null,
   "metadata": {},
   "outputs": [],
   "source": []
  },
  {
   "cell_type": "code",
   "execution_count": null,
   "metadata": {},
   "outputs": [],
   "source": []
  }
 ],
 "metadata": {
  "kernelspec": {
   "display_name": "Python 3",
   "language": "python",
   "name": "python3"
  },
  "language_info": {
   "codemirror_mode": {
    "name": "ipython",
    "version": 3
   },
   "file_extension": ".py",
   "mimetype": "text/x-python",
   "name": "python",
   "nbconvert_exporter": "python",
   "pygments_lexer": "ipython3",
   "version": "3.7.4"
  }
 },
 "nbformat": 4,
 "nbformat_minor": 2
}
