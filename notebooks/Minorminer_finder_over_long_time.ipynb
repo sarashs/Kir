{
 "cells": [
  {
   "cell_type": "markdown",
   "metadata": {},
   "source": [
    "### minorminer over a long time\n",
    "\n",
    "This just runs Minorminer "
   ]
  },
  {
   "cell_type": "code",
   "execution_count": null,
   "metadata": {},
   "outputs": [],
   "source": [
    "from dwave.system.samplers import DWaveSampler\n",
    "import sys\n",
    "from pathlib import Path\n",
    "pp = str(Path('.').absolute().parent)\n",
    "if pp not in sys.path:\n",
    "    sys.path.append(pp)"
   ]
  },
  {
   "cell_type": "code",
   "execution_count": null,
   "metadata": {},
   "outputs": [],
   "source": [
    "from qpr.routing import (\n",
    "    NetList, Route, get_qubo, edge_list_from_qubo_answer_dict, qubo_violation\n",
    ")\n",
    "from qpr.quantum_utils import cached_find_embedding, get_all_min_energy\n",
    "from qpr.notebook_utils import make_ax_grid\n",
    "\n",
    "from refactor.essentials import (\n",
    "    RectGridGraph, create_qubo, SA, optimize_qannealer,\n",
    "    is_this_an_answer,\n",
    ")"
   ]
  },
  {
   "cell_type": "code",
   "execution_count": null,
   "metadata": {},
   "outputs": [],
   "source": [
    "G = RectGridGraph(4, 4)\n",
    "net_start=[(0,0)]\n",
    "net_end=[(1,1)]\n",
    "params = {'weight_objective': 0.58,\n",
    " 'weight_end': 0.99,\n",
    " 'weight_start': 0.82,\n",
    " 'weight_others': 0.59,\n",
    " 'weight_and': 1.7}\n",
    "Q=create_qubo(G, net_start, net_end, params)\n",
    "dwave_sampler = DWaveSampler(solver={'lower_noise': True, 'qpu': True})\n",
    "A = dwave_sampler.edgelist"
   ]
  },
  {
   "cell_type": "code",
   "execution_count": null,
   "metadata": {},
   "outputs": [],
   "source": [
    "\n",
    "embedding, chain_len = cached_find_embedding(Q, A, dwave_sampler.solver.id, '4x4rectgrid', num_tries=40000, hurry=False)\n",
    "display(chain_len)"
   ]
  },
  {
   "cell_type": "code",
   "execution_count": null,
   "metadata": {},
   "outputs": [],
   "source": []
  }
 ],
 "metadata": {
  "kernelspec": {
   "display_name": "Python 3",
   "language": "python",
   "name": "python3"
  },
  "language_info": {
   "codemirror_mode": {
    "name": "ipython",
    "version": 3
   },
   "file_extension": ".py",
   "mimetype": "text/x-python",
   "name": "python",
   "nbconvert_exporter": "python",
   "pygments_lexer": "ipython3",
   "version": "3.7.4"
  }
 },
 "nbformat": 4,
 "nbformat_minor": 2
}
