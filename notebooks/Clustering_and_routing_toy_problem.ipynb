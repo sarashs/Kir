{
 "cells": [
  {
   "cell_type": "markdown",
   "metadata": {},
   "source": [
    "# Multi-resolution routing"
   ]
  },
  {
   "cell_type": "code",
   "execution_count": null,
   "metadata": {},
   "outputs": [],
   "source": [
    "from dwave.system.samplers import DWaveSampler\n",
    "from dwave.system.composites import FixedEmbeddingComposite\n",
    "import dwave_networkx as dnx\n",
    "import networkx as nx\n",
    "from itertools import product as prd\n",
    "import matplotlib.pyplot as plt\n",
    "\n",
    "%matplotlib inline\n",
    "\n",
    "import sys\n",
    "from pathlib import Path\n",
    "pp = str(Path('.').absolute().parent)\n",
    "if pp not in sys.path:\n",
    "    sys.path.append(pp)"
   ]
  },
  {
   "cell_type": "code",
   "execution_count": null,
   "metadata": {},
   "outputs": [],
   "source": [
    "from refactor.essentials import (\n",
    "    RectGridGraph, create_qubo, SA, optimize_qannealer,\n",
    "    is_this_an_answer,\n",
    ")\n",
    "from qpr.quantum_utils import find_embedding_minorminer"
   ]
  },
  {
   "cell_type": "code",
   "execution_count": null,
   "metadata": {},
   "outputs": [],
   "source": [
    "#int(len(G.nodes())/(9))\n",
    "#list(G.edges())\n",
    "#G.size()"
   ]
  },
  {
   "cell_type": "code",
   "execution_count": null,
   "metadata": {},
   "outputs": [],
   "source": [
    "class cluster_graph(nx.Graph):\n",
    "    \"\"\"Cluster is a graph whose nodes are graphs themselves\"\"\"\n",
    "    def __init__(self, sub_graphs = None, cluster_edges={((0,0), (0,1)): [[(0,2), (0,1)], [(1,2), (0,1)], [(2,2), (0,1)]]}):\n",
    "        super().__init__(nx.Graph())\n",
    "        cluster_edges_keys = [list(item) for item in cluster_edges.keys()]\n",
    "        self.add_edges_from(cluster_edges_keys) # Nodes of this graph are graphs\n",
    "        self.inter_node_connections = cluster_edges\n",
    "        self.sub_graph = sub_graphs\n",
    "    @classmethod\n",
    "    def from_graph(cls, graph):\n",
    "        pass\n",
    "    @classmethod\n",
    "    def from_rect_graph(cls, graph_nrow, graph_ncol, cluster_nrow, cluster_ncol):\n",
    "        assert (graph_nrow%cluster_nrow == 0),\"Error\"\n",
    "        assert (graph_ncol%cluster_ncol == 0),\"Error\"\n",
    "        edges = RectGridGraph(cluster_nrow, cluster_ncol).edges\n",
    "        G = RectGridGraph(graph_nrow, graph_ncol)\n",
    "        cluster_edges = {}\n",
    "        row = int(graph_nrow / cluster_nrow)\n",
    "        col = int(graph_ncol / cluster_ncol)\n",
    "        for item in edges:\n",
    "            cluster_edges[item] = []\n",
    "            if item[0][0] == item[1][0] and item[0][0] < cluster_ncol-1:\n",
    "                for i in range(0, col):\n",
    "                    cluster_edges[item].append(((item[0][0] * col + i, item[1][1] * row - 1), (item[0][0] * col + i, item[1][1] * row)))\n",
    "            if item[0][1] == item[1][1] and item[0][1] < cluster_nrow-1:\n",
    "                for i in range(0, row):\n",
    "                    cluster_edges[item].append(((item[1][0] * col - 1, item[1][1] * row + i), (item[1][0] * col, item[1][1] * row + i)))\n",
    "        sub_graphs = {}\n",
    "        for i,j in prd(range(0,cluster_nrow-1), range(0,cluster_ncol-1)): #need itertools product as prd\n",
    "            sub_graphs[(i,j)] = RectGridGraph(row, col)\n",
    "            # must be expanded such that the endges of subgraphs has the same lables as the edges of the original graph\n",
    "        cluster_of_sub_graphs = cls(sub_graphs, cluster_edges)\n",
    "        return cluster_of_sub_graphs\n",
    "        #\n",
    "         #   cluster_edges \n",
    "#int((len(graph.nodes())/(nrow * ncol))**0.5)\n",
    "       "
   ]
  },
  {
   "cell_type": "code",
   "execution_count": null,
   "metadata": {},
   "outputs": [],
   "source": [
    "#Test:\n",
    "G = RectGridGraph(9, 9)\n",
    "#fig = plt.figure(figsize = (25, 25))\n",
    "cluster_of_sub_graphs = cluster_graph.from_rect_graph(9, 9, 3, 3)\n",
    "#G.draw()\n",
    "cluster_of_sub_graphs.inter_node_connections"
   ]
  },
  {
   "cell_type": "code",
   "execution_count": null,
   "metadata": {},
   "outputs": [],
   "source": []
  }
 ],
 "metadata": {
  "kernelspec": {
   "display_name": "Python 3",
   "language": "python",
   "name": "python3"
  },
  "language_info": {
   "codemirror_mode": {
    "name": "ipython",
    "version": 3
   },
   "file_extension": ".py",
   "mimetype": "text/x-python",
   "name": "python",
   "nbconvert_exporter": "python",
   "pygments_lexer": "ipython3",
   "version": "3.7.4"
  }
 },
 "nbformat": 4,
 "nbformat_minor": 2
}
