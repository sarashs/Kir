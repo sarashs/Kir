{
 "cells": [
  {
   "cell_type": "markdown",
   "metadata": {},
   "source": [
    "# Placement\n",
    "\n",
    "This is based on the work of \"Architecture-aware FPGA placement using metric embedding\"\n",
    "The objective for a metric based placement will be: $||D_DP-PD_A||_F^2$ where P is the permutation matrix and D_x is the distance matrix.\n",
    "The constraints on permutation matrix are: $\\sum_{i=1}^n P(i,j) = 1, \\forall j$ \n",
    "\n",
    "and $\\sum_{j=1}^n P(i,j) = 1, \\forall i$\n",
    "\n",
    "Casting the placement into QUBO:\n",
    "\n",
    "-objective\n",
    "$f=\\sum_I^n\\sum_J^n\\{-2D_{II}A_{JJ}x_{IJ}+\\sum_i^n[D_{Ii}^2x_{iJ}+A_{iJ}^2x_{Ii}+\\sum_{j\\neq i}^n (D_{Ii}D_{Ij}x_{iJ}x_{jJ}+A_{iJ}A_{jJ}x_{Ii}x_{Ij})]-\\sum_{i\\neq I}^n\\sum_{j\\neq J}^n[A_{jJ}D_{Ii}x_{iJ}x_{Ij}]-\\sum_{i\\neq J}^n\\sum_{j\\neq I}^n[A_{iJ}D_{Ij}x_{Ii}x_{jJ}]\\}$\n",
    "\n",
    "-constraint on row and columns separately (in case we need to relax one):\n",
    "$\\sum_j^n [1-\\sum_i^nx_{ij}]^2=\\sum_j^n\\sum_i^n[-x_{ij}+2\\sum_{k\\neq i}^nx_{ij}x_{kj}]$\n",
    "\n",
    "$\\sum_i^n [1-\\sum_j^nx_{ij}]^2=\\sum_i^n\\sum_j^n[-x_{ij}+2\\sum_{k\\neq j}^nx_{ij}x_{ik}]$"
   ]
  },
  {
   "cell_type": "code",
   "execution_count": null,
   "metadata": {},
   "outputs": [],
   "source": [
    "#distance matrix calculator"
   ]
  },
  {
   "cell_type": "code",
   "execution_count": 6,
   "metadata": {},
   "outputs": [],
   "source": [
    "from essentials import *\n",
    "from itertools import product as prd"
   ]
  },
  {
   "cell_type": "code",
   "execution_count": 23,
   "metadata": {},
   "outputs": [],
   "source": [
    "n=4"
   ]
  },
  {
   "cell_type": "code",
   "execution_count": 24,
   "metadata": {},
   "outputs": [],
   "source": [
    "def set_qubo_val(Q, x1, x2, value):\n",
    "    if (x1, x2) in Q.keys():\n",
    "        Q[(x1, x2)] += value\n",
    "    elif (x2, x1) in Q.keys():\n",
    "        Q[(x2, x1)] += value\n",
    "    else:\n",
    "        raise Exception('Your key is not in the Q dict.') \n",
    "        \n",
    "def placement_qubo(D_design, D_architecture, params={'weight_objective': 1, 'weight_row': 1, 'weight_column': 1}):\n",
    "    #D_design and D_architecture matrices are 2-D numpy arrays\n",
    "    Q = {}\n",
    "    n = len(D_design)\n",
    "    # for now the design and architecture distance matrices are of the same size\n",
    "    \n",
    "    permutation_matrix_elements=[]\n",
    "    for var1, var2 in prd(range(0, n), repeat=2):\n",
    "        permutation_matrix_elements.append([var1, var2])\n",
    "        \n",
    "    for var1, var2 in cwr(permutation_matrix_elements, 2):\n",
    "            Q[(f'x{var1[0]}{var1[1]}', f'x{var2[0]}{var2[1]}')] = 0\n",
    "    \n",
    "    # Objective\n",
    "    w1 = params['weight_objective']\n",
    "    for I, J in prd(range(0,n), repeat=2):\n",
    "        Q[(f'x{I}{J}', f'x{I}{J}')] += w1 * -2 * D[I][I] * A[J][J]\n",
    "        for i in range(0,n):\n",
    "            Q[(f'x{i}{J}', f'x{i}{J}')] += w1 * D[I][i]^2\n",
    "            Q[(f'x{I}{i}', f'x{I}{i}')] += w1 * A[i][J]^2\n",
    "            for j in range(0,n):\n",
    "                if i != j:\n",
    "                    set_qubo_val(Q, f'x{i}{J}', f'x{j}{J}', w1 * D[I][i] * D[I][j])\n",
    "                    set_qubo_val(Q, f'x{I}{i}', f'x{I}{j}', w1 * A[i][J] * A[j][J])\n",
    "        for i, j in prd(range(0,n), repeat=2):\n",
    "            if i != I and j != J:\n",
    "                set_qubo_val(Q, f'x{i}{J}', f'x{I}{j}', -w1 * A[j][J] * D[I][i])\n",
    "            if i != J and j != I:\n",
    "                set_qubo_val(Q, f'x{I}{i}', f'x{j}{J}', -w1 * A[i][J] * D[I][j])\n",
    "\n",
    "    #constraint on rows\n",
    "    w2 = params['weight_row']\n",
    "    for i, j in prd(range(0, n), repeat=2):\n",
    "        Q[(f'x{i}{j}', f'x{i}{j}')] += w2 * -1\n",
    "        for k in range(0, n):\n",
    "            if k != i:\n",
    "                set_qubo_val(Q, f'x{i}{j}', f'x{k}{j}', w2 * 2)\n",
    "    \n",
    "    #constraint on columns\n",
    "    w3 = params['weight_column']\n",
    "    for i, j in prd(range(0, n), repeat=2):\n",
    "        Q[(f'x{i}{j}', f'x{i}{j}')] += w3 * -1\n",
    "        for k in range(0, n):\n",
    "            if k != j:\n",
    "                set_qubo_val(Q, f'x{i}{j}', f'x{i}{k}', w3 * 2) \n",
    "    return Q"
   ]
  },
  {
   "cell_type": "code",
   "execution_count": null,
   "metadata": {},
   "outputs": [],
   "source": []
  }
 ],
 "metadata": {
  "kernelspec": {
   "display_name": "Python 3",
   "language": "python",
   "name": "python3"
  },
  "language_info": {
   "codemirror_mode": {
    "name": "ipython",
    "version": 3
   },
   "file_extension": ".py",
   "mimetype": "text/x-python",
   "name": "python",
   "nbconvert_exporter": "python",
   "pygments_lexer": "ipython3",
   "version": "3.6.8"
  }
 },
 "nbformat": 4,
 "nbformat_minor": 2
}
