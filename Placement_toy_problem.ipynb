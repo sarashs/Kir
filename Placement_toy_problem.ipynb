{
 "cells": [
  {
   "cell_type": "markdown",
   "metadata": {},
   "source": [
    "# Placement\n",
    "\n",
    "This is based on the work of \"Architecture-aware FPGA placement using metric embedding\"\n",
    "The objective for a metric based placement will be: $||D_DP-PD_A||_F^2$ where P is the permutation matrix and $D_x$ is the distance matrix.\n",
    "The constraints on permutation matrix are: $\\sum_{i=1}^n P(i,j) = 1, \\forall j$ \n",
    "\n",
    "and $\\sum_{j=1}^n P(i,j) = 1, \\forall i$\n",
    "\n",
    "Casting the placement into QUBO:\n",
    "\n",
    "-objective\n",
    "$f=\\sum_I^n\\sum_J^n\\{-2D_{II}A_{JJ}x_{IJ}+\\sum_i^n[D_{Ii}^2x_{iJ}+A_{iJ}^2x_{Ii}+\\sum_{j\\neq i}^n (D_{Ii}D_{Ij}x_{iJ}x_{jJ}+A_{iJ}A_{jJ}x_{Ii}x_{Ij})]-\\sum_{i\\neq I}^n\\sum_{j\\neq J}^n[A_{jJ}D_{Ii}x_{iJ}x_{Ij}]-\\sum_{i\\neq J}^n\\sum_{j\\neq I}^n[A_{iJ}D_{Ij}x_{Ii}x_{jJ}]\\}$\n",
    "\n",
    "-constraint on row and columns separately (in case we need to relax one):\n",
    "$\\sum_j^n [1-\\sum_i^nx_{ij}]^2=\\sum_j^n\\sum_i^n[-x_{ij}+2\\sum_{k\\neq i}^nx_{ij}x_{kj}]$\n",
    "\n",
    "$\\sum_i^n [1-\\sum_j^nx_{ij}]^2=\\sum_i^n\\sum_j^n[-x_{ij}+2\\sum_{k\\neq j}^nx_{ij}x_{ik}]$"
   ]
  },
  {
   "cell_type": "code",
   "execution_count": null,
   "metadata": {},
   "outputs": [],
   "source": [
    "#distance matrix calculator"
   ]
  },
  {
   "cell_type": "code",
   "execution_count": null,
   "metadata": {},
   "outputs": [],
   "source": [
    "from essentials import *\n",
    "from itertools import product as prd"
   ]
  },
  {
   "cell_type": "code",
   "execution_count": null,
   "metadata": {},
   "outputs": [],
   "source": [
    "G = RectGridGraph(2, 3)\n",
    "G.draw()"
   ]
  },
  {
   "cell_type": "code",
   "execution_count": null,
   "metadata": {},
   "outputs": [],
   "source": [
    "D_D = np.array([[0, 2, 2, 1, 2, 2], [2, 0, 2, 1, 2, 2], [2, 2, 0, 1, 2, 2], [1, 1, 1, 0, 1, 1],[2, 2, 2, 1, 0, 2],[2, 2, 2, 1, 2, 0]])\n",
    "D_A = np.array([[0, 1, 1, 2, 2, 3], [1, 0, 2, 1, 3, 2], [1, 2, 0, 1, 1, 2], [2, 1, 1, 0, 2, 1],[2, 3, 1, 2, 0, 1],[3, 2, 2, 1, 1, 0]])"
   ]
  },
  {
   "cell_type": "code",
   "execution_count": null,
   "metadata": {},
   "outputs": [],
   "source": [
    "def set_qubo_val(Q, x1, x2, value):\n",
    "    if (x1, x2) in Q.keys():\n",
    "        Q[(x1, x2)] += value\n",
    "    elif (x2, x1) in Q.keys():\n",
    "        Q[(x2, x1)] += value\n",
    "    else:\n",
    "        raise Exception('Your key is not in the Q dict.') \n",
    "        \n",
    "def placement_qubo(D_design, D_architecture, params={'weight_objective': 1, 'weight_row': 1, 'weight_column': 1}):\n",
    "    #D_design and D_architecture matrices are 2-D numpy arrays\n",
    "    Q = {}\n",
    "    n = len(D_design)\n",
    "    D = D_design\n",
    "    A = D_architecture\n",
    "    # for now the design and architecture distance matrices are of the same size\n",
    "    \n",
    "    permutation_matrix_elements=[]\n",
    "    for var1, var2 in prd(range(0, n), repeat=2):\n",
    "        permutation_matrix_elements.append([var1, var2])\n",
    "        \n",
    "    for var1, var2 in cwr(permutation_matrix_elements, 2):\n",
    "            Q[(f'x{var1[0]}{var1[1]}', f'x{var2[0]}{var2[1]}')] = 0\n",
    "    \n",
    "    # Objective\n",
    "    w1 = params['weight_objective']\n",
    "    for I, J in prd(range(0,n), repeat=2):\n",
    "        Q[(f'x{I}{J}', f'x{I}{J}')] += w1 * -2 * D[I][I] * A[J][J]\n",
    "        for i in range(0,n):\n",
    "            Q[(f'x{i}{J}', f'x{i}{J}')] += w1 * D[I][i]^2\n",
    "            Q[(f'x{I}{i}', f'x{I}{i}')] += w1 * A[i][J]^2\n",
    "            for j in range(0,n):\n",
    "                if i != j:\n",
    "                    set_qubo_val(Q, f'x{i}{J}', f'x{j}{J}', w1 * D[I][i] * D[I][j])\n",
    "                    set_qubo_val(Q, f'x{I}{i}', f'x{I}{j}', w1 * A[i][J] * A[j][J])\n",
    "        for i, j in prd(range(0,n), repeat=2):\n",
    "            if i != I and j != J:\n",
    "                set_qubo_val(Q, f'x{i}{J}', f'x{I}{j}', -w1 * A[j][J] * D[I][i])\n",
    "            if i != J and j != I:\n",
    "                set_qubo_val(Q, f'x{I}{i}', f'x{j}{J}', -w1 * A[i][J] * D[I][j])\n",
    "\n",
    "    #constraint on rows\n",
    "    w2 = params['weight_row']\n",
    "    for i, j in prd(range(0, n), repeat=2):\n",
    "        Q[(f'x{i}{j}', f'x{i}{j}')] += w2 * -1\n",
    "        for k in range(0, n):\n",
    "            if k != i:\n",
    "                set_qubo_val(Q, f'x{i}{j}', f'x{k}{j}', w2 * 2)\n",
    "    \n",
    "    #constraint on columns\n",
    "    w3 = params['weight_column']\n",
    "    for i, j in prd(range(0, n), repeat=2):\n",
    "        Q[(f'x{i}{j}', f'x{i}{j}')] += w3 * -1\n",
    "        for k in range(0, n):\n",
    "            if k != j:\n",
    "                set_qubo_val(Q, f'x{i}{j}', f'x{i}{k}', w3 * 2) \n",
    "    return Q"
   ]
  },
  {
   "cell_type": "code",
   "execution_count": null,
   "metadata": {},
   "outputs": [],
   "source": [
    "Q=placement_qubo(D_A, D_D)\n",
    "dwave_sampler = DWaveSampler(solver={'lower_noise': True, 'qpu': True})\n",
    "A = dwave_sampler.edgelist\n",
    "embedding, chain_len = find_embedding_minorminer(Q, A)\n",
    "## the shortest chain_len I've seen with num_tries=1000 is 5\n",
    "## (SP: takes 2.5 mins on my machine, SAS: 1:08 on mine)\n",
    "display(chain_len)"
   ]
  },
  {
   "cell_type": "code",
   "execution_count": null,
   "metadata": {},
   "outputs": [],
   "source": [
    "connectivity_structure = dnx.chimera_graph(16,16)\n",
    "fig=plt.figure(figsize=(25, 25))\n",
    "dnx.draw_chimera_embedding(connectivity_structure, embedding)"
   ]
  },
  {
   "cell_type": "code",
   "execution_count": null,
   "metadata": {},
   "outputs": [],
   "source": [
    "fixed_sampler = FixedEmbeddingComposite(\n",
    "            DWaveSampler(solver={'lower_noise': True, 'qpu': True}), embedding\n",
    "            )\n",
    "response = optimize_qannealer(fixed_sampler, Q, params={'chain_strength': 20, 'annealing_time': 99, 'num_reads': 10000})\n",
    "display(response.first)\n",
    "best_q_answer = response.first.sample"
   ]
  },
  {
   "cell_type": "markdown",
   "metadata": {},
   "source": [
    "# Distance matrix calculation"
   ]
  },
  {
   "cell_type": "code",
   "execution_count": null,
   "metadata": {},
   "outputs": [],
   "source": [
    "# finding the distance matrix based on the edge list usinf BFS algorithm\n",
    "import queue\n",
    "def find_adjacent_edges(start_node, edge_list):\n",
    "    adjacent_edges = []\n",
    "    for item in edge_list:\n",
    "        if start_node == item[0]:\n",
    "            adjacent_edges.append(item)\n",
    "        elif start_node == item[1]:\n",
    "            adjacent_edges.append((item[1], item[0]))\n",
    "    return adjacent_edges\n",
    "\n",
    "def distance_calc(input_dict, start_node, end_node):\n",
    "    temp = end_node\n",
    "    distance = 0\n",
    "    while temp != start_node:\n",
    "        temp = input_dict[temp][0]['parent']\n",
    "        distance += 1\n",
    "    return distance\n",
    "\n",
    "def BFS(node_list, edge_list, start_node, end_node):\n",
    "    matrix_size = len(node_list)\n",
    "    matrix_distance = np.zeros((matrix_size, matrix_size))\n",
    "    q = queue.Queue()\n",
    "    #FIFO queue\n",
    "    q.put(start_node)\n",
    "    d = {key : [{'parent' : None}, {'discovered' : False}] for key in node_list}\n",
    "    distance = 0\n",
    "    while not q.empty():\n",
    "        current_node = q.get()\n",
    "        if current_node == end_node:\n",
    "            return distance_calc(d, start_node, current_node)\n",
    "        neighbor_edgelist = find_adjacent_edges(current_node, edge_list)\n",
    "        for item in neighbor_edgelist:\n",
    "            if d[item[1]][1]['discovered'] == False:\n",
    "                d[item[1]][1]['discovered'] = True\n",
    "                d[item[1]][0]['parent'] = current_node\n",
    "                q.put(item[1])\n",
    "\n",
    "def distance_matrix(node_list, edge_list):\n",
    "    dmatrix = np.zeros((len(node_list), len(node_list)))\n",
    "    for i, j in prd(node_list, repeat=2):\n",
    "        dmatrix[i][j] = BFS(node_list, edge_list, i, j)\n",
    "    return dmatrix\n",
    "\n",
    "def partial_trace(input_matrix, dim1, dim2):\n",
    "    #computes partial trace of dim1 kron dim2\n",
    "    reshaped_mat = input_matrix.reshape([dim1, dim2, dim1, dim2])\n",
    "    reduced_1 = np.einsum('kjij->ki', reshaped_mat)\n",
    "    reduced_2 = np.einsum('jkji->ki', reshaped_mat)\n",
    "    return [reduced_1, reduced_2]"
   ]
  },
  {
   "cell_type": "code",
   "execution_count": null,
   "metadata": {},
   "outputs": [],
   "source": [
    "#Testing the trace function\n",
    "a=np.kron(np.eye(2,2), np.diag([i for i in range(0,8)])) \n",
    "[reduced_1, reduced_2] = partial_trace(a, 2, 8);\n",
    "reduced_2"
   ]
  },
  {
   "cell_type": "code",
   "execution_count": null,
   "metadata": {},
   "outputs": [],
   "source": [
    "node_list = [i for i in range(0,8)]\n",
    "edge_list =[(0, 4),\n",
    " (0, 5),\n",
    " (0, 6),\n",
    " (0, 7),\n",
    " (1, 4),\n",
    " (1, 5),\n",
    " (1, 6),\n",
    " (1, 7),\n",
    " (2, 4),\n",
    " (2, 5),\n",
    " (2, 6),\n",
    " (2, 7),\n",
    " (3, 4),\n",
    " (3, 5),\n",
    " (3, 6),\n",
    " (3, 7)]\n",
    "d = distance_matrix(node_list, edge_list)"
   ]
  },
  {
   "cell_type": "code",
   "execution_count": null,
   "metadata": {},
   "outputs": [],
   "source": [
    "#w, v = np.linalg.eig(d)\n",
    "d"
   ]
  },
  {
   "cell_type": "code",
   "execution_count": null,
   "metadata": {},
   "outputs": [],
   "source": [
    "connectivity_structure = dnx.chimera_graph(2,1)"
   ]
  },
  {
   "cell_type": "code",
   "execution_count": null,
   "metadata": {},
   "outputs": [],
   "source": [
    "node_list = list(connectivity_structure.nodes)\n",
    "edge_list = list(connectivity_structure.edges)\n",
    "d1 = distance_matrix(node_list, edge_list)\n",
    "d2 = np.kron(np.eye(2, 2), d)\n",
    "traced_matrix = partial_trace(d1, 2, 8);"
   ]
  },
  {
   "cell_type": "code",
   "execution_count": null,
   "metadata": {},
   "outputs": [],
   "source": [
    "dwave_sampler = DWaveSampler(solver={'lower_noise': True, 'qpu': True})\n",
    "A = dwave_sampler.edgelist\n",
    "node_list = [i for i in range(0,2048)]\n",
    "edge_list = A # Dwave QPO edge list\n",
    "d = distance_matrix(node_list, edge_list)"
   ]
  },
  {
   "cell_type": "code",
   "execution_count": null,
   "metadata": {},
   "outputs": [],
   "source": [
    "d"
   ]
  }
 ],
 "metadata": {
  "kernelspec": {
   "display_name": "Python 3",
   "language": "python",
   "name": "python3"
  },
  "language_info": {
   "codemirror_mode": {
    "name": "ipython",
    "version": 3
   },
   "file_extension": ".py",
   "mimetype": "text/x-python",
   "name": "python",
   "nbconvert_exporter": "python",
   "pygments_lexer": "ipython3",
   "version": "3.7.4"
  }
 },
 "nbformat": 4,
 "nbformat_minor": 2
}
