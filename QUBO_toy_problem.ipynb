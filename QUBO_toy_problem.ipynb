{
 "cells": [
  {
   "cell_type": "markdown",
   "metadata": {},
   "source": [
    "-Constraint to set one node to 1 for the ending node: $(1-\\sum_i y_i + \\sum_{i\\neq j} 2y_iy_j)$\n",
    "\n",
    "-Constraint to set other nodes to 0 or 2: $(\\sum_jy_j)(2-\\sum_jy_j)^2= \\sum_i y_i-2\\sum_{i\\neq j}y_iy_j+2\\sum_{i\\neq j,i\\neq k,j\\neq j}y_iy_jy_k$. Adding ancilla variables to make it QUBO:\n",
    "$\\sum_i y_i-2\\sum_{i\\neq j}y_iy_j+2\\sum_{i\\neq j,i\\neq k,j\\neq k}[w_{i,j}y_k]+\\sum_{i\\neq j,i\\neq k,j\\neq k}[y_iy_j-2w_{i,j}(y_i+y_j)+3w_{i,j}]$\n",
    "\n",
    "-Constraint to set one node to $n$ for the starting node: $(\\sum_iy_i-n)^2=n^2-(2n-1)\\sum_i y_i+\\sum_{i\\neq j} 2y_iy_j$\n",
    "\n",
    "-Minimum distance objective function:  $w\\sum_{i \\notin start, i \\notin start} y_i$ if $w$ is not there 0 would be a viable solution too. While the constraints only add a penalty or reward of 1/-1, the objective function's penalty grows linearly with the routs length. Therefore, it is imperetive that we nulify the effect of this growth with a small weight. A weight too big wont do shit and a weight too small will make the adiabatic gap very tiny and inceases the error rate. "
   ]
  },
  {
   "cell_type": "code",
   "execution_count": null,
   "metadata": {},
   "outputs": [],
   "source": [
    "#import the necessary shit\n",
    "import matplotlib.pyplot as plt\n",
    "import numpy as np\n",
    "from copy import deepcopy\n",
    "from itertools import combinations_with_replacement as cwr\n",
    "\n",
    "import dwave_networkx as dnx\n",
    "import networkx as nx\n",
    "import minorminer\n",
    "from dwave.system.samplers import DWaveSampler\n",
    "from dwave.system.composites import FixedEmbeddingComposite\n",
    "\n",
    "%matplotlib inline"
   ]
  },
  {
   "cell_type": "code",
   "execution_count": null,
   "metadata": {},
   "outputs": [],
   "source": [
    "G=nx.grid_2d_graph(3,3)\n",
    "pos = dict( (n, n) for n in G.nodes() )\n",
    "l=0\n",
    "labels={}\n",
    "for i in G.edges:\n",
    "    labels[i]=l\n",
    "    l+=1\n",
    "nx.draw_networkx_nodes(G,pos,node_size=1000,node_color='r')\n",
    "nx.draw_networkx_edges(G,pos)\n",
    "nx.draw_networkx_edge_labels(G,pos,labels,font_size=20)\n",
    "plt.show()"
   ]
  },
  {
   "cell_type": "code",
   "execution_count": null,
   "metadata": {},
   "outputs": [],
   "source": [
    "#prepare the netlist\n",
    "\n",
    "net_start=[(2,2)]\n",
    "net_end=[(0,0)]\n",
    "n=len(net_end)"
   ]
  },
  {
   "cell_type": "code",
   "execution_count": null,
   "metadata": {},
   "outputs": [],
   "source": [
    "Q={}\n",
    "for i,j in cwr(list(labels.values()),2):\n",
    "    Q[(f'y{i}',f'y{j}')]=0\n",
    "Starting_node=[]\n",
    "end_nodes={}\n",
    "other_nodes={}\n",
    "for item_1 in net_end:\n",
    "    end_nodes[item_1]=[]\n",
    "for item_1 in G.nodes:\n",
    "    if item_1 not in net_end and item_1 not in net_start:\n",
    "        other_nodes[item_1]=[]\n",
    "\n",
    "# iterate over numerical edge labels\n",
    "for edge_pair, num_lab in labels.items():\n",
    "    # objective\n",
    "    w1=1\n",
    "    Q[(f'y{num_lab}',f'y{num_lab}')]=1*w1\n",
    "    # According to Arash, VPR defines nets as having one start and multiple ends\n",
    "    #Starting node\n",
    "    if edge_pair[0] in net_start or edge_pair[1] in net_start:\n",
    "        Starting_node.append(num_lab)\n",
    "    #end node\n",
    "    if edge_pair[0] in net_end:\n",
    "        end_nodes[edge_pair[0]].append(num_lab)\n",
    "    if edge_pair[1] in net_end:\n",
    "        end_nodes[edge_pair[1]].append(num_lab)\n",
    "    #other nodes\n",
    "    if edge_pair[0] in other_nodes:\n",
    "        other_nodes[edge_pair[0]].append(num_lab)\n",
    "    if edge_pair[1] in other_nodes:\n",
    "        other_nodes[edge_pair[1]].append(num_lab)   \n",
    "\n",
    "#constraint on end nodes\n",
    "w2=1\n",
    "# each item is a list of (numerical) edge labels ending in the node\n",
    "for node, num_lab_list in end_nodes.items():\n",
    "    # for each pair of edges\n",
    "    for i,j in cwr(num_lab_list,2):\n",
    "        if i==j:\n",
    "            #######Removing end node edges from the objective\n",
    "            Q[(f'y{i}',f'y{j}')]+=-1*w1 \n",
    "            ##############################\n",
    "            Q[(f'y{i}',f'y{j}')]+=-1*w2\n",
    "        else:\n",
    "            Q[(f'y{i}',f'y{j}')]+=2*w2\n",
    "\n",
    "#constraint on other nodes\n",
    "w3=1\n",
    "# yiyj and weightm\n",
    "w_and=1\n",
    "\n",
    "# iterate over numerical edge labels\n",
    "for node, num_lab_list in other_nodes.items():\n",
    "    for i,j in cwr(num_lab_list,2):\n",
    "        if i==j:\n",
    "            Q[(f'y{i}',f'y{j}')]+=w3\n",
    "        else:\n",
    "            Q[(f'y{i}',f'y{j}')]+=-2*w3\n",
    "    for i,j,k in cwr(num_lab_list,3):\n",
    "        if i !=j and j!=k and i !=k:\n",
    "            if (f'w{i}{j}',f'y{k}') not in Q:\n",
    "                Q[(f'w{i}{j}',f'y{k}')]=0\n",
    "            Q[(f'w{i}{j}',f'y{k}')]+=2\n",
    "            Q[(f'y{i}',f'y{j}')]+=2*w_and\n",
    "            if (f'w{i}{j}',f'y{i}') not in Q:\n",
    "                Q[(f'w{i}{j}',f'y{i}')]=0\n",
    "            Q[(f'w{i}{j}',f'y{i}')]+=-2*w_and\n",
    "            if (f'w{i}{j}',f'y{j}') not in Q:\n",
    "                Q[(f'w{i}{j}',f'y{j}')]=0\n",
    "            Q[(f'w{i}{j}',f'y{j}')]+=-2*w_and\n",
    "            if (f'w{i}{j}',f'w{i}{j}') not in Q:\n",
    "                Q[(f'w{i}{j}',f'w{i}{j}')]=0\n",
    "            Q[(f'w{i}{j}',f'w{i}{j}')]+=3*w_and            \n",
    "#constraint on the starting node\n",
    "w4=1\n",
    "# Starting_node is a list of numerical labels and not a dict\n",
    "for i,j in cwr(Starting_node,2):\n",
    "    if i==j:\n",
    "        #######Removing starting node edges from the objective\n",
    "        Q[(f'y{i}',f'y{j}')]+=-1*w1 \n",
    "        ##############################\n",
    "        Q[(f'y{i}',f'y{j}')]+=-(2*n-1)*w4\n",
    "    else:\n",
    "        Q[(f'y{i}',f'y{j}')]+=2*w4"
   ]
  },
  {
   "cell_type": "code",
   "execution_count": null,
   "metadata": {
    "scrolled": false
   },
   "outputs": [],
   "source": [
    "%%time\n",
    "\n",
    "def longest_chain_in_embed(e):\n",
    "    return np.max([len(i) for i in e.values()])\n",
    "\n",
    "def find_embedding(Q, A, num_tries=100):\n",
    "    best_embedding = None\n",
    "    best_chain_len = np.inf\n",
    "\n",
    "    for i in range(num_tries):\n",
    "        e = minorminer.find_embedding(Q, A)\n",
    "        chain_len = longest_chain_in_embed(e)\n",
    "        if chain_len < best_chain_len:\n",
    "            best_embedding = e\n",
    "            best_chain_len = chain_len\n",
    "\n",
    "    return best_embedding, best_chain_len    \n",
    "\n",
    "\n",
    "dwave_sampler = DWaveSampler(solver={'lower_noise': True, 'qpu': True})\n",
    "A = dwave_sampler.edgelist\n",
    "embedding, chain_len = find_embedding(Q, A)\n",
    "# the shortest chain_len I've seen with num_tries=1000 is 5\n",
    "# (SP: takes 2.5 mins on my machine)\n",
    "display(chain_len)"
   ]
  },
  {
   "cell_type": "code",
   "execution_count": null,
   "metadata": {
    "scrolled": true
   },
   "outputs": [],
   "source": [
    "connectivity_structure = dnx.chimera_graph(16,16)\n",
    "fig=plt.figure(figsize=(25, 25))\n",
    "dnx.draw_chimera_embedding(connectivity_structure, embedding)"
   ]
  },
  {
   "cell_type": "code",
   "execution_count": null,
   "metadata": {},
   "outputs": [],
   "source": [
    "#set up the Qubo\n",
    "sampler = FixedEmbeddingComposite(DWaveSampler(solver={'lower_noise': True, 'qpu': True}),embedding)\n",
    "response=sampler.sample_qubo(Q, chain_strength=4,annealing_time=500, auto_scale=True, num_reads=1000) #"
   ]
  },
  {
   "cell_type": "code",
   "execution_count": null,
   "metadata": {},
   "outputs": [],
   "source": [
    "response_num=0\n",
    "l=12\n",
    "rout_edges=[]\n",
    "R = iter(response)\n",
    "E = iter(response.data())"
   ]
  },
  {
   "cell_type": "code",
   "execution_count": null,
   "metadata": {},
   "outputs": [],
   "source": [
    "connections=next(R)\n",
    "print(next(E))\n",
    "#fig=plt.figure(figsize=(25, 25))\n",
    "for i in range(l):\n",
    "    if connections[f'y{i}']==1:\n",
    "        rout_edges.append(list(labels.keys())[i])\n",
    "nx.draw_networkx_nodes(G,pos,node_size=1000,node_color='r')\n",
    "nx.draw_networkx_edges(G, pos, width=1.0, alpha=0.5)\n",
    "nx.draw_networkx_edges(\n",
    "    G, pos, edgelist=rout_edges, width=8, edge_color='r'\n",
    ")  \n",
    "plt.show()"
   ]
  },
  {
   "cell_type": "code",
   "execution_count": null,
   "metadata": {},
   "outputs": [],
   "source": [
    "response"
   ]
  }
 ],
 "metadata": {
  "kernelspec": {
   "display_name": "Python 3",
   "language": "python",
   "name": "python3"
  },
  "language_info": {
   "codemirror_mode": {
    "name": "ipython",
    "version": 3
   },
   "file_extension": ".py",
   "mimetype": "text/x-python",
   "name": "python",
   "nbconvert_exporter": "python",
   "pygments_lexer": "ipython3",
   "version": "3.6.8"
  }
 },
 "nbformat": 4,
 "nbformat_minor": 2
}
