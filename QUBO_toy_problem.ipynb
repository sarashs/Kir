{
 "cells": [
  {
   "cell_type": "markdown",
   "metadata": {},
   "source": [
    "-Constraint to set one node to 1 for the ending node: $(1-\\sum_i y_i + \\sum_{i\\neq j} 2y_iy_j)$\n",
    "\n",
    "-Constraint to set other nodes to 0 or 2: $(\\sum_jy_j)(2-\\sum_jy_j)^2= \\sum_i y_i-2\\sum_{i\\neq j}y_iy_j+6\\sum_{i\\neq j,i\\neq k,j\\neq j}y_iy_jy_k$. Adding ancilla variables to make it QUBO:\n",
    "$\\sum_i y_i-2\\sum_{i\\neq j}y_iy_j+6\\sum_{i\\neq j,i\\neq k,j\\neq k}[w_{i,j}y_k]+6\\sum_{i\\neq j,i\\neq k,j\\neq k}[y_iy_j-2w_{i,j}(y_i+y_j)+3w_{i,j}]$\n",
    "\n",
    "-Constraint to set one node to $n$ for the starting node: $(\\sum_iy_i-n)^2=n^2-(2n-1)\\sum_i y_i+\\sum_{i\\neq j} 2y_iy_j$\n",
    "\n",
    "-Minimum distance objective function:  $w\\sum_{i \\notin start, i \\notin start} y_i$ if $w$ is not there 0 would be a viable solution too. While the constraints only add a penalty or reward of 1/-1, the objective function's penalty grows linearly with the routs length. Therefore, it is imperetive that we nulify the effect of this growth with a small weight. A weight too big wont do shit and a weight too small will make the adiabatic gap very tiny and inceases the error rate. "
   ]
  },
  {
   "cell_type": "code",
   "execution_count": null,
   "metadata": {},
   "outputs": [],
   "source": [
    "#import the necessary shit\n",
    "from essentials import *\n",
    "\n",
    "%matplotlib inline"
   ]
  },
  {
   "cell_type": "code",
   "execution_count": null,
   "metadata": {},
   "outputs": [],
   "source": [
<<<<<<< HEAD
    "#prepare the netlist\n",
    "\n",
    "net_start=[(0,0)]\n",
    "net_end=[(2,2)]\n",
    "\n",
    "G = RectGridGraph(3, 3)"
=======
    "# flip the key-value in a dict\n",
    "def reverse_map(_dict):\n",
    "    # make sure the values are unique, i.e. nothing gets clobbered\n",
    "    assert len(_dict) == len(set(_dict.values()))\n",
    "    return {val: key for key, val in _dict.items()}\n",
    "\n",
    "\n",
    "class RectGridGraph(nx.Graph):\n",
    "    def __init__(self, nrow, ncol):\n",
    "        super().__init__(nx.grid_2d_graph(nrow, ncol))\n",
    "        \n",
    "        self.pos = {n: n for n in self.nodes()}\n",
    "        self.np2l = {edge: idx for idx, edge in enumerate(self.edges)}  # node pair to numerical labels\n",
    "        self.np2qv = {edge: f'y{idx}' for idx, edge in enumerate(self.edges)}  # node pair to qubo var name\n",
    "        self.l2np = reverse_map(self.np2l)\n",
    "        self.qv2np = reverse_map(self.np2qv)\n",
    "\n",
    "    def draw(self, ax=None, edge_labs=True):\n",
    "        nx.draw_networkx_nodes(self, self.pos, node_size=1000, node_color='r', ax=ax)\n",
    "        nx.draw_networkx_edges(self, self.pos, ax=ax)\n",
    "        if edge_labs:\n",
    "            nx.draw_networkx_edge_labels(self, self.pos, self.np2l, font_size=20, ax=ax)\n",
    "\n",
    "    def qubo_answer2node_pairs(self, ans):\n",
    "        # answer is a dict of {qubo var name: 0/1} e.g. {'y0': 0, 'y1': 1, etc}\n",
    "        # it can have auxiliary variables not found in self.np2qv or self.qv2np\n",
    "        return [self.qv2np[var_name] for var_name in self.qv2np if ans[var_name] == 1]\n",
    "    \n",
    "    def highlight_edge_list(self, edge_list, ax=None):\n",
    "        nx.draw_networkx_edges(\n",
    "            self, self.pos, edgelist=edge_list, width=8, edge_color='r', ax=ax\n",
    "        )\n",
    "\n",
    "\n",
    "G = RectGridGraph(3, 3)\n",
    "G.draw()"
>>>>>>> 5287cdc7abff437a8a43c39c97edb3a92a2e9894
   ]
  },
  {
   "cell_type": "code",
   "execution_count": null,
   "metadata": {},
   "outputs": [],
   "source": [
    "%%time\n",
    "\n",
<<<<<<< HEAD
    "Q=create_qubo(G, net_start, net_end)\n",
    "dwave_sampler = DWaveSampler(solver={'lower_noise': True, 'qpu': True})\n",
    "A = dwave_sampler.edgelist\n",
    "embedding, chain_len = find_embedding_minorminer(Q, A)\n",
    "## the shortest chain_len I've seen with num_tries=1000 is 5\n",
    "## (SP: takes 2.5 mins on my machine, SAS: 1:08 on mine)\n",
    "display(chain_len)"
=======
    "net_start=[(0,0)]\n",
    "net_end=[(1,1)]\n",
    "n=len(net_end)"
>>>>>>> 5287cdc7abff437a8a43c39c97edb3a92a2e9894
   ]
  },
  {
   "cell_type": "code",
   "execution_count": null,
   "metadata": {},
   "outputs": [],
   "source": [
<<<<<<< HEAD
    "connectivity_structure = dnx.chimera_graph(16,16)\n",
    "fig=plt.figure(figsize=(25, 25))\n",
    "dnx.draw_chimera_embedding(connectivity_structure, embedding)"
   ]
  },
  {
   "cell_type": "markdown",
   "metadata": {},
   "source": [
    "# QPU"
   ]
  },
  {
   "cell_type": "code",
   "execution_count": null,
   "metadata": {},
   "outputs": [],
   "source": [
    "display(q_response.first)\n",
    "best_q_answer = q_response.first.sample"
   ]
  },
  {
   "cell_type": "code",
   "execution_count": null,
   "metadata": {},
   "outputs": [],
   "source": [
    "G.draw()\n",
    "\n",
    "edge_set = G.qubo_answer2node_pairs(q_response.samples()[0])\n",
    "G.highlight_edge_list(edge_set)"
=======
    "def create_qubo(G=G, weight_objective=1,weight_end=1,weight_start=1,weight_others=1,weight_and=6):\n",
    "    Q={}\n",
    "    # these are 'y0', 'y1', etc\n",
    "    for var1, var2 in cwr(G.np2qv.values(), 2):\n",
    "        Q[(var1, var2)]=0\n",
    "    \n",
    "    Starting_node=[]\n",
    "    end_nodes={}\n",
    "    other_nodes={}\n",
    "    for item_1 in net_end:\n",
    "        end_nodes[item_1]=[]\n",
    "    for item_1 in G.nodes:\n",
    "        if item_1 not in net_end and item_1 not in net_start:\n",
    "            other_nodes[item_1]=[]\n",
    "    \n",
    "    # iterate over numerical edge labels\n",
    "    for edge_pair, num_lab in G.np2l.items():\n",
    "        # objective\n",
    "        w1=weight_objective\n",
    "        Q[(f'y{num_lab}',f'y{num_lab}')]=1*w1\n",
    "        # According to Arash, VPR defines nets as having one start and multiple ends\n",
    "        #Starting node\n",
    "        if edge_pair[0] in net_start or edge_pair[1] in net_start:\n",
    "            Starting_node.append(num_lab)\n",
    "        #end node\n",
    "        if edge_pair[0] in net_end:\n",
    "            end_nodes[edge_pair[0]].append(num_lab)\n",
    "        if edge_pair[1] in net_end:\n",
    "            end_nodes[edge_pair[1]].append(num_lab)\n",
    "        #other nodes\n",
    "        if edge_pair[0] in other_nodes:\n",
    "            other_nodes[edge_pair[0]].append(num_lab)\n",
    "        if edge_pair[1] in other_nodes:\n",
    "            other_nodes[edge_pair[1]].append(num_lab)   \n",
    "    \n",
    "    #constraint on end nodes\n",
    "    w2=weight_end\n",
    "    # each item is a list of (numerical) edge labels ending in the node\n",
    "    for node, num_lab_list in end_nodes.items():\n",
    "        # for each pair of edges\n",
    "        for i,j in cwr(num_lab_list,2):\n",
    "            if i==j:\n",
    "                #######Removing end node edges from the objective\n",
    "                Q[(f'y{i}',f'y{j}')]+=-1*w1 \n",
    "                ##############################\n",
    "                Q[(f'y{i}',f'y{j}')]+=-1*w2\n",
    "            else:\n",
    "                Q[(f'y{i}',f'y{j}')]+=2*w2\n",
    "    \n",
    "    #constraint on other nodes\n",
    "    w3=weight_others\n",
    "    # yiyj and weightm\n",
    "    w_and=weight_and\n",
    "    \n",
    "    # iterate over numerical edge labels\n",
    "    for node, num_lab_list in other_nodes.items():\n",
    "        for i,j in cwr(num_lab_list,2):\n",
    "            if i==j:\n",
    "                Q[(f'y{i}',f'y{j}')]+=w3\n",
    "            else:\n",
    "                Q[(f'y{i}',f'y{j}')]+=-2*w3 #2\n",
    "        for i,j,k in cwr(num_lab_list,3):\n",
    "            if i !=j and j!=k and i !=k:\n",
    "                if (f'w{i}{j}',f'y{k}') not in Q:\n",
    "                    Q[(f'w{i}{j}',f'y{k}')]=0\n",
    "                Q[(f'w{i}{j}',f'y{k}')]+=6*w3 #2\n",
    "                Q[(f'y{i}',f'y{j}')]+=1*w_and #2\n",
    "                if (f'w{i}{j}',f'y{i}') not in Q:\n",
    "                    Q[(f'w{i}{j}',f'y{i}')]=0\n",
    "                Q[(f'w{i}{j}',f'y{i}')]+=-2*w_and\n",
    "                if (f'w{i}{j}',f'y{j}') not in Q:\n",
    "                    Q[(f'w{i}{j}',f'y{j}')]=0\n",
    "                Q[(f'w{i}{j}',f'y{j}')]+=-2*w_and\n",
    "                if (f'w{i}{j}',f'w{i}{j}') not in Q:\n",
    "                    Q[(f'w{i}{j}',f'w{i}{j}')]=0\n",
    "                Q[(f'w{i}{j}',f'w{i}{j}')]+=3*w_and            \n",
    "    #constraint on the starting node\n",
    "    w4=weight_start\n",
    "    # Starting_node is a list of numerical labels and not a dict\n",
    "    for i,j in cwr(Starting_node,2):\n",
    "        if i==j:\n",
    "            #######Removing starting node edges from the objective\n",
    "            Q[(f'y{i}',f'y{j}')]+=-1*w1 \n",
    "            ##############################\n",
    "            Q[(f'y{i}',f'y{j}')]+=-(2*n-1)*w4\n",
    "        else:\n",
    "            Q[(f'y{i}',f'y{j}')]+=2*w4\n",
    "    return Q"
>>>>>>> 5287cdc7abff437a8a43c39c97edb3a92a2e9894
   ]
  },
  {
   "cell_type": "code",
   "execution_count": null,
   "metadata": {},
<<<<<<< HEAD
   "outputs": [],
   "source": [
    "def make_ax_grid(n, ax_h=4, ax_w=6, ncols=4):\n",
    "    nrows = int(np.ceil(n / ncols))\n",
    "    fig_h = nrows * ax_h\n",
    "    fig_w = ncols * ax_w\n",
    "    return plt.subplots(nrows=nrows, ncols=ncols, figsize=(fig_w, fig_h))"
   ]
  },
  {
   "cell_type": "markdown",
   "metadata": {},
   "source": [
    "# Exact solver"
   ]
  },
  {
   "cell_type": "code",
   "execution_count": null,
   "metadata": {},
=======
>>>>>>> 5287cdc7abff437a8a43c39c97edb3a92a2e9894
   "outputs": [],
   "source": [
    "%%time\n",
    "exact_response = dimod.ExactSolver().sample_qubo(Q)\n",
    "display(exact_response.record)"
   ]
  },
  {
   "cell_type": "code",
   "execution_count": null,
   "metadata": {},
   "outputs": [],
   "source": [
    "# .data() sorts by energy by defaults but returns an iterator (not a SampleSet)\n",
    "# the iterator yields a named tuple\n",
    "# .samples(n) sort by energy, take at most n samples, return a SampleArray\n",
    "# which is a view, mapping the var names to the values (i.e returns dicts), It is\n",
    "# indexable i.e. .samples()[10] works\n",
    "# .record returns record array of Sample objects which is basically a \n",
    "# numpy-scliceable list of named tuples (samples). Also .record.energy\n",
    "# returns a numpy array of energies, .record.samples returns a 2d numpy\n",
    "# array of qubo answers etc.\n",
    "# Iterating over the SampleSet, calls .samples() internally, i.e. it gets sorted\n",
    "# .first calls data() internally so it does the sorting anyway!\n",
    "\n",
<<<<<<< HEAD
    "# This function returns all the min energy solutions as a list of {var name: val} dicts\n",
    "def get_all_min_energy(sample_set):\n",
    "    min_energy = np.min(sample_set.record.energy)\n",
    "    # use .record since it is slicing friendly, this returns a 2d-array-like recarray\n",
    "    records = sample_set.record[sample_set.record.energy == min_energy]\n",
    "    # make dicts out of each answer using the original var names (i.e. sample_set.variables)\n",
    "    return [dict(zip(sample_set.variables, i.sample)) for i in records], min_energy"
=======
    "def longest_chain_in_embed(e):\n",
    "    return np.max([len(i) for i in e.values()])\n",
    "\n",
    "def find_embedding(Q, A, num_tries=1000):\n",
    "    best_embedding = None\n",
    "    best_chain_len = np.inf\n",
    "\n",
    "    for i in range(num_tries):\n",
    "        e = minorminer.find_embedding(Q, A)\n",
    "        if e: #to guarantee an embedding is produced\n",
    "            chain_len = longest_chain_in_embed(e)\n",
    "            if chain_len < best_chain_len:\n",
    "                best_embedding = e\n",
    "                best_chain_len = chain_len\n",
    "\n",
    "    return best_embedding, best_chain_len    \n",
    "\n",
    "Q=create_qubo()\n",
    "dwave_sampler = DWaveSampler(solver={'lower_noise': True, 'qpu': True})\n",
    "A = dwave_sampler.edgelist\n",
    "embedding, chain_len = find_embedding(Q, A)\n",
    "# the shortest chain_len I've seen with num_tries=1000 is 5\n",
    "# (SP: takes 2.5 mins on my machine, SAS: 1:08 on mine)\n",
    "display(chain_len)"
>>>>>>> 5287cdc7abff437a8a43c39c97edb3a92a2e9894
   ]
  },
  {
   "cell_type": "code",
   "execution_count": null,
   "metadata": {},
   "outputs": [],
   "source": [
    "def plot_all_exact_solutions(min_energy_sols):\n",
    "    fig, axes = make_ax_grid(len(min_energy_sols))\n",
    "    display(len(min_energy_sols))\n",
    "    \n",
    "    for ax, answer_dict in zip(axes.flat, min_energy_sols):\n",
    "        G.draw(edge_labs=False, ax=ax)  # edge_labs=False)\n",
    "    \n",
    "        edge_set = G.qubo_answer2node_pairs(answer_dict)\n",
    "        G.highlight_edge_list(edge_set, ax=ax)\n",
    "    fig.tight_layout()"
   ]
  },
  {
   "cell_type": "markdown",
   "metadata": {},
   "source": [
    "# QPU"
   ]
  },
  {
   "cell_type": "code",
   "execution_count": null,
   "metadata": {},
   "outputs": [],
   "source": [
<<<<<<< HEAD
    "min_energy_sols, _ = get_all_min_energy(exact_response)\n",
    "plot_all_exact_solutions(min_energy_sols)"
=======
    "#set up the Qubo\n",
    "def optimize_qannealer(sampler, Q):\n",
    "    response = sampler.sample_qubo(\n",
    "        Q, chain_strength=4, annealing_time=500, auto_scale=True, num_reads=1000\n",
    "    )\n",
    "    return response\n",
    "\n",
    "\n",
    "fixed_sampler = FixedEmbeddingComposite(\n",
    "    DWaveSampler(solver={'lower_noise': True, 'qpu': True}), embedding\n",
    ")\n",
    "q_response = optimize_qannealer(fixed_sampler, Q)"
>>>>>>> 5287cdc7abff437a8a43c39c97edb3a92a2e9894
   ]
  },
  {
   "cell_type": "code",
   "execution_count": null,
   "metadata": {},
   "outputs": [],
   "source": [
<<<<<<< HEAD
    "def check_against_exact(ans,exact_min_energy_sols):\n",
    "    #ans is the answer from QPU or hybrid solver. \n",
    "    #exact_min_energy_sols is the set of all possible solutions from the exact solver\n",
    "    return (ans in exact_min_energy_sols)"
=======
    "display(q_response.first)\n",
    "best_q_answer = q_response.first.sample"
>>>>>>> 5287cdc7abff437a8a43c39c97edb3a92a2e9894
   ]
  },
  {
   "cell_type": "code",
   "execution_count": null,
   "metadata": {},
   "outputs": [],
   "source": [
<<<<<<< HEAD
    "print(check_against_exact(q_response.samples()[0],min_energy_sols))"
   ]
  },
  {
   "cell_type": "markdown",
   "metadata": {},
   "source": [
    "# hybrid solution"
=======
    "G.draw()\n",
    "\n",
    "edge_set = G.qubo_answer2node_pairs(q_response.samples()[0])\n",
    "G.highlight_edge_list(edge_set)"
>>>>>>> 5287cdc7abff437a8a43c39c97edb3a92a2e9894
   ]
  },
  {
   "cell_type": "code",
   "execution_count": null,
   "metadata": {},
   "outputs": [],
   "source": [
<<<<<<< HEAD
=======
    "def make_ax_grid(n, ax_h=4, ax_w=6, ncols=4):\n",
    "    nrows = int(np.ceil(n / ncols))\n",
    "    fig_h = nrows * ax_h\n",
    "    fig_w = ncols * ax_w\n",
    "    return plt.subplots(nrows=nrows, ncols=ncols, figsize=(fig_w, fig_h))"
   ]
  },
  {
   "cell_type": "markdown",
   "metadata": {},
   "source": [
    "# Exact solver"
   ]
  },
  {
   "cell_type": "code",
   "execution_count": null,
   "metadata": {},
   "outputs": [],
   "source": [
    "%%time\n",
    "import dimod\n",
    "exact_response = dimod.ExactSolver().sample_qubo(Q)\n",
    "display(exact_response.record)"
   ]
  },
  {
   "cell_type": "code",
   "execution_count": null,
   "metadata": {},
   "outputs": [],
   "source": [
    "# .data() sorts by energy by defaults but returns an iterator (not a SampleSet)\n",
    "# the iterator yields a named tuple\n",
    "# .samples(n) sort by energy, take at most n samples, return a SampleArray\n",
    "# which is a view, mapping the var names to the values (i.e returns dicts), It is\n",
    "# indexable i.e. .samples()[10] works\n",
    "# .record returns record array of Sample objects which is basically a \n",
    "# numpy-scliceable list of named tuples (samples). Also .record.energy\n",
    "# returns a numpy array of energies, .record.samples returns a 2d numpy\n",
    "# array of qubo answers etc.\n",
    "# Iterating over the SampleSet, calls .samples() internally, i.e. it gets sorted\n",
    "# .first calls data() internally so it does the sorting anyway!\n",
    "\n",
    "# This function returns all the min energy solutions as a list of {var name: val} dicts\n",
    "def get_all_min_energy(sample_set):\n",
    "    min_energy = np.min(sample_set.record.energy)\n",
    "    # use .record since it is slicing friendly, this returns a 2d-array-like recarray\n",
    "    records = sample_set.record[sample_set.record.energy == min_energy]\n",
    "    # make dicts out of each answer using the original var names (i.e. sample_set.variables)\n",
    "    return [dict(zip(sample_set.variables, i.sample)) for i in records], min_energy"
   ]
  },
  {
   "cell_type": "code",
   "execution_count": null,
   "metadata": {},
   "outputs": [],
   "source": [
    "def plot_all_exact_solutions(min_energy_sols):\n",
    "    fig, axes = make_ax_grid(len(min_energy_sols))\n",
    "    display(len(min_energy_sols))\n",
    "    \n",
    "    for ax, answer_dict in zip(axes.flat, min_energy_sols):\n",
    "        G.draw(edge_labs=False, ax=ax)  # edge_labs=False)\n",
    "    \n",
    "        edge_set = G.qubo_answer2node_pairs(answer_dict)\n",
    "        G.highlight_edge_list(edge_set, ax=ax)\n",
    "    fig.tight_layout()"
   ]
  },
  {
   "cell_type": "code",
   "execution_count": null,
   "metadata": {},
   "outputs": [],
   "source": [
    "min_energy_sols, _ = get_all_min_energy(exact_response)\n",
    "plot_all_exact_solutions(min_energy_sols)"
   ]
  },
  {
   "cell_type": "code",
   "execution_count": null,
   "metadata": {},
   "outputs": [],
   "source": [
    "def check_against_exact(ans,exact_min_energy_sols):\n",
    "    #ans is the answer from QPU or hybrid solver. \n",
    "    #exact_min_energy_sols is the set of all possible solutions from the exact solver\n",
    "    return (ans in exact_min_energy_sols)"
   ]
  },
  {
   "cell_type": "code",
   "execution_count": null,
   "metadata": {},
   "outputs": [],
   "source": [
    "print(check_against_exact(q_response.samples()[0],min_energy_sols))"
   ]
  },
  {
   "cell_type": "markdown",
   "metadata": {},
   "source": [
    "# hybrid solution"
   ]
  },
  {
   "cell_type": "code",
   "execution_count": null,
   "metadata": {},
   "outputs": [],
   "source": [
    "import hybrid\n",
>>>>>>> 5287cdc7abff437a8a43c39c97edb3a92a2e9894
    "\n",
    "# Construct a problem\n",
    "offset=0.0\n",
    "#vartype = dimod.BINARY\n",
    "bqm = dimod.BinaryQuadraticModel.from_qubo(Q, offset)\n",
    "\n",
    "# Define the workflow\n",
    "iteration = hybrid.RacingBranches(\n",
    "    hybrid.InterruptableTabuSampler(),\n",
    "    hybrid.EnergyImpactDecomposer(size=2)\n",
    "    | hybrid.QPUSubproblemAutoEmbeddingSampler()\n",
    "    | hybrid.SplatComposer()\n",
    ") | hybrid.ArgMin()\n",
    "workflow = hybrid.LoopUntilNoImprovement(iteration, convergence=3)\n",
    "\n",
    "# Solve the problem\n",
    "init_state = hybrid.State.from_problem(bqm)\n",
    "final_state = workflow.run(init_state).result()\n",
    "\n",
    "# Print results\n",
    "print(\"Solution: sample={.samples.first}\".format(final_state))"
<<<<<<< HEAD
=======
   ]
  },
  {
   "cell_type": "code",
   "execution_count": null,
   "metadata": {},
   "outputs": [],
   "source": [
    "G.draw(edge_labs=False)  # edge_labs=False)\n",
    "\n",
    "edge_set = G.qubo_answer2node_pairs(answer_dict)\n",
    "G.highlight_edge_list(edge_set)\n"
>>>>>>> 5287cdc7abff437a8a43c39c97edb3a92a2e9894
   ]
  },
  {
   "cell_type": "code",
   "execution_count": null,
   "metadata": {},
   "outputs": [],
   "source": [
<<<<<<< HEAD
    "G.draw(edge_labs=False)  # edge_labs=False)\n",
    "\n",
    "edge_set = G.qubo_answer2node_pairs(final_state.samples.first[0])\n",
    "G.highlight_edge_list(edge_set)\n"
=======
    "print(check_against_exact(final_state.samples.first[0],min_energy_sols))"
>>>>>>> 5287cdc7abff437a8a43c39c97edb3a92a2e9894
   ]
  },
  {
   "cell_type": "markdown",
   "metadata": {},
   "source": [
    "# simulated  annealing\n",
    "\n",
    "In order to optimize the parameters of QUBO (and later QPU) we employ s simulated annealing algorithm. "
   ]
  },
  {
   "cell_type": "code",
   "execution_count": null,
   "metadata": {},
   "outputs": [],
   "source": [
    "a=SA(3, params={'weight_objective': [1, 0, 2, 0], 'weight_end': [1, 0, 2, 0],\n",
    "                                           'weight_start': [1, 0, 2, 0] ,'weight_others': [1, 0, 2, 0],\n",
    "                                           'weight_and': [6, 4, 15, 0],\n",
    "                                           'chain_strength': [7, 3, 12, 0], 'annealing_time': [99, 99, 99, 1]\n",
    "                                          },\n",
    "                 T=1, T_min=0.00001, alpha=0.8, max_iter=5)"
   ]
  },
  {
   "cell_type": "code",
   "execution_count": null,
   "metadata": {},
   "outputs": [],
   "source": [
    "a.anneal()"
   ]
  },
  {
   "cell_type": "code",
   "execution_count": null,
   "metadata": {},
   "outputs": [],
   "source": []
  },
  {
   "cell_type": "code",
   "execution_count": null,
   "metadata": {},
   "outputs": [],
   "source": []
  }
 ],
 "metadata": {
  "kernelspec": {
   "display_name": "Python 3",
   "language": "python",
   "name": "python3"
  },
  "language_info": {
   "codemirror_mode": {
    "name": "ipython",
    "version": 3
   },
   "file_extension": ".py",
   "mimetype": "text/x-python",
   "name": "python",
   "nbconvert_exporter": "python",
   "pygments_lexer": "ipython3",
   "version": "3.6.8"
  }
 },
 "nbformat": 4,
 "nbformat_minor": 2
}
